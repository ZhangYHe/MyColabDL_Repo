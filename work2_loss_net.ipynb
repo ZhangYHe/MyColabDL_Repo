{
  "nbformat": 4,
  "nbformat_minor": 0,
  "metadata": {
    "colab": {
      "name": "work2 loss net.ipynb",
      "provenance": [],
      "collapsed_sections": [
        "yDZjhHeZSV-x",
        "aYn5d8D4gcGW",
        "mNfh_IlNCSrx"
      ],
      "authorship_tag": "ABX9TyOM9mQ9WDeoLAg5Q9WCrUsY",
      "include_colab_link": true
    },
    "kernelspec": {
      "name": "python3",
      "display_name": "Python 3"
    },
    "language_info": {
      "name": "python"
    }
  },
  "cells": [
    {
      "cell_type": "markdown",
      "metadata": {
        "id": "view-in-github",
        "colab_type": "text"
      },
      "source": [
        "<a href=\"https://colab.research.google.com/github/ZhangYHe/MyColabDL_Repo/blob/main/work2_loss_net.ipynb\" target=\"_parent\"><img src=\"https://colab.research.google.com/assets/colab-badge.svg\" alt=\"Open In Colab\"/></a>"
      ]
    },
    {
      "cell_type": "markdown",
      "source": [
        "##损失函数\n",
        "损失函数选择为交叉熵损失函数。   \n",
        "参数y_hat为预测的样本在10个类别上的预测概率,y为每个样本的真实类别数字。通过y索引得到预测样本在真实类别上的预测概率，取负对数，即为损失值。"
      ],
      "metadata": {
        "id": "KMJdaTLfQkvQ"
      }
    },
    {
      "cell_type": "code",
      "source": [
        "from google.colab import drive\n",
        "drive.mount('/content/drive')"
      ],
      "metadata": {
        "id": "cmP9bUeNgJxo",
        "outputId": "dc474d6b-0c6c-49e0-98d4-d735d9ff4146",
        "colab": {
          "base_uri": "https://localhost:8080/"
        }
      },
      "execution_count": null,
      "outputs": [
        {
          "output_type": "stream",
          "name": "stdout",
          "text": [
            "Mounted at /content/drive\n"
          ]
        }
      ]
    },
    {
      "cell_type": "code",
      "source": [
        "def CE_loss(y_hat, y):\n",
        "    return - torch.log(y_hat[range(len(y_hat)), y])\n"
      ],
      "metadata": {
        "id": "3mXS7SVnQlKC"
      },
      "execution_count": null,
      "outputs": []
    },
    {
      "cell_type": "markdown",
      "source": [
        "##Res-net 50网络(1)"
      ],
      "metadata": {
        "id": "yDZjhHeZSV-x"
      }
    },
    {
      "cell_type": "code",
      "source": [
        "import torch\n",
        "from torch import nn\n",
        "from torch.nn import functional as F\n",
        "\n",
        "\n",
        "class Residual(nn.Module):  \n",
        "    def __init__(self, input_channels, num_channels_1, num_channels_2,\n",
        "                 use_1x1conv=False, strides=1):\n",
        "        #print(input_channels, num_channels_1, num_channels_2)\n",
        "        super().__init__()\n",
        "        self.conv1 = nn.Conv2d(input_channels, num_channels_1,\n",
        "                               kernel_size=1, padding=0, stride=strides)\n",
        "        self.conv2 = nn.Conv2d(num_channels_1, num_channels_1,\n",
        "                               kernel_size=3, padding=1)\n",
        "        self.conv3 = nn.Conv2d(num_channels_1, num_channels_2,\n",
        "                               kernel_size=1, padding=0)\n",
        "        # self.conv4 = nn.Conv2d(input_channels, num_channels_2,\n",
        "        #                        kernel_size=1, padding=0, stride=1)\n",
        "        if use_1x1conv:\n",
        "            self.conv4 = nn.Conv2d(input_channels, num_channels_2,\n",
        "                                   kernel_size=1, padding=0, stride=strides)\n",
        "        else:\n",
        "            self.conv4 = None\n",
        "        self.bn1 = nn.BatchNorm2d(num_channels_1)\n",
        "        self.bn2 = nn.BatchNorm2d(num_channels_1)\n",
        "        self.bn3 = nn.BatchNorm2d(num_channels_2)\n",
        "        self.bn4 = nn.BatchNorm2d(num_channels_2)\n",
        "\n",
        "    def forward(self, X):\n",
        "        Y = F.relu(self.bn1(self.conv1(X)))\n",
        "        # print('X1',X.shape)\n",
        "        # Y=self.conv1(X)\n",
        "        # Y=self.bn1(Y)\n",
        "        # Y=F.relu(Y)\n",
        "        Y = F.relu(self.bn2(self.conv2(X)))\n",
        "        Y = self.bn3(self.conv3(Y))\n",
        "        if self.conv4:\n",
        "            X = self.conv4(X)\n",
        "        #X =self.conv4(X)\n",
        "        print('X',X.shape)\n",
        "        print('Y',Y.shape)\n",
        "        Y += X\n",
        "        return F.relu(Y)\n",
        "\n",
        "\n",
        "def resnet_block(input_channels, num_channels, num_residuals,first_block=False):\n",
        "    blk = []\n",
        "    for i in range(num_residuals):\n",
        "        # if i == 0 and not first_block:\n",
        "        #     blk.append(Residual(input_channels, num_channels,num_channels*4,\n",
        "        #                         use_1x1conv=True, strides=2))\n",
        "        #     print(\"blk\",i,input_channels, num_channels,num_channels*4)\n",
        "        # else:\n",
        "        #     blk.append(Residual(input_channels, num_channels,num_channels*4))\n",
        "        #     print(\"blk\",i,input_channels, num_channels,num_channels*4)\n",
        "        if i==0 and not first_block:\n",
        "          blk.append(Residual(input_channels, num_channels,num_channels*4,\n",
        "                                use_1x1conv=True, strides=2))\n",
        "          #print(\"blk\",i,input_channels, num_channels,num_channels*4)\n",
        "        else:\n",
        "          blk.append(Residual(num_channels*4, num_channels,num_channels*4))\n",
        "          #print(\"blk\",i,input_channels, num_channels,num_channels*4)\n",
        "    return blk\n",
        "\n",
        "b1 = nn.Sequential(nn.Conv2d(1, 64, kernel_size=7, stride=2, padding=3),\n",
        "                   nn.BatchNorm2d(64), nn.ReLU(),\n",
        "                   nn.MaxPool2d(kernel_size=3, stride=2, padding=1))\n",
        "b2 = nn.Sequential(*resnet_block(64, 64, 3, first_block=True))\n",
        "b3 = nn.Sequential(*resnet_block(256, 128, 4))\n",
        "b4 = nn.Sequential(*resnet_block(512, 256, 6))\n",
        "b5 = nn.Sequential(*resnet_block(1024, 512, 3))\n",
        "\n",
        "net = nn.Sequential(b1, b2, b3, b4, b5,\n",
        "                    nn.AdaptiveAvgPool2d((1,1)),\n",
        "                    nn.Flatten(), nn.Linear(2048, 10))\n",
        "\n",
        "#检验输出\n",
        "X = torch.rand(size=(1, 1, 224, 224))\n",
        "for layer in net:\n",
        "    X = layer(X)\n",
        "    print(layer.__class__.__name__,'output shape:\\t', X.shape)"
      ],
      "metadata": {
        "colab": {
          "base_uri": "https://localhost:8080/",
          "height": 413
        },
        "id": "AJP1iX4WSWJg",
        "outputId": "860d21a7-cb8d-47c2-b319-d1e073db56d2"
      },
      "execution_count": null,
      "outputs": [
        {
          "output_type": "stream",
          "name": "stdout",
          "text": [
            "Sequential output shape:\t torch.Size([1, 64, 56, 56])\n",
            "X1 torch.Size([1, 64, 56, 56])\n"
          ]
        },
        {
          "output_type": "error",
          "ename": "RuntimeError",
          "evalue": "ignored",
          "traceback": [
            "\u001b[0;31m---------------------------------------------------------------------------\u001b[0m",
            "\u001b[0;31mRuntimeError\u001b[0m                              Traceback (most recent call last)",
            "\u001b[0;32m<ipython-input-34-973e815dfbe2>\u001b[0m in \u001b[0;36m<module>\u001b[0;34m()\u001b[0m\n\u001b[1;32m     78\u001b[0m \u001b[0mX\u001b[0m \u001b[0;34m=\u001b[0m \u001b[0mtorch\u001b[0m\u001b[0;34m.\u001b[0m\u001b[0mrand\u001b[0m\u001b[0;34m(\u001b[0m\u001b[0msize\u001b[0m\u001b[0;34m=\u001b[0m\u001b[0;34m(\u001b[0m\u001b[0;36m1\u001b[0m\u001b[0;34m,\u001b[0m \u001b[0;36m1\u001b[0m\u001b[0;34m,\u001b[0m \u001b[0;36m224\u001b[0m\u001b[0;34m,\u001b[0m \u001b[0;36m224\u001b[0m\u001b[0;34m)\u001b[0m\u001b[0;34m)\u001b[0m\u001b[0;34m\u001b[0m\u001b[0;34m\u001b[0m\u001b[0m\n\u001b[1;32m     79\u001b[0m \u001b[0;32mfor\u001b[0m \u001b[0mlayer\u001b[0m \u001b[0;32min\u001b[0m \u001b[0mnet\u001b[0m\u001b[0;34m:\u001b[0m\u001b[0;34m\u001b[0m\u001b[0;34m\u001b[0m\u001b[0m\n\u001b[0;32m---> 80\u001b[0;31m     \u001b[0mX\u001b[0m \u001b[0;34m=\u001b[0m \u001b[0mlayer\u001b[0m\u001b[0;34m(\u001b[0m\u001b[0mX\u001b[0m\u001b[0;34m)\u001b[0m\u001b[0;34m\u001b[0m\u001b[0;34m\u001b[0m\u001b[0m\n\u001b[0m\u001b[1;32m     81\u001b[0m     \u001b[0mprint\u001b[0m\u001b[0;34m(\u001b[0m\u001b[0mlayer\u001b[0m\u001b[0;34m.\u001b[0m\u001b[0m__class__\u001b[0m\u001b[0;34m.\u001b[0m\u001b[0m__name__\u001b[0m\u001b[0;34m,\u001b[0m\u001b[0;34m'output shape:\\t'\u001b[0m\u001b[0;34m,\u001b[0m \u001b[0mX\u001b[0m\u001b[0;34m.\u001b[0m\u001b[0mshape\u001b[0m\u001b[0;34m)\u001b[0m\u001b[0;34m\u001b[0m\u001b[0;34m\u001b[0m\u001b[0m\n",
            "\u001b[0;32m/usr/local/lib/python3.7/dist-packages/torch/nn/modules/module.py\u001b[0m in \u001b[0;36m_call_impl\u001b[0;34m(self, *input, **kwargs)\u001b[0m\n\u001b[1;32m   1108\u001b[0m         if not (self._backward_hooks or self._forward_hooks or self._forward_pre_hooks or _global_backward_hooks\n\u001b[1;32m   1109\u001b[0m                 or _global_forward_hooks or _global_forward_pre_hooks):\n\u001b[0;32m-> 1110\u001b[0;31m             \u001b[0;32mreturn\u001b[0m \u001b[0mforward_call\u001b[0m\u001b[0;34m(\u001b[0m\u001b[0;34m*\u001b[0m\u001b[0minput\u001b[0m\u001b[0;34m,\u001b[0m \u001b[0;34m**\u001b[0m\u001b[0mkwargs\u001b[0m\u001b[0;34m)\u001b[0m\u001b[0;34m\u001b[0m\u001b[0;34m\u001b[0m\u001b[0m\n\u001b[0m\u001b[1;32m   1111\u001b[0m         \u001b[0;31m# Do not call functions when jit is used\u001b[0m\u001b[0;34m\u001b[0m\u001b[0;34m\u001b[0m\u001b[0;34m\u001b[0m\u001b[0m\n\u001b[1;32m   1112\u001b[0m         \u001b[0mfull_backward_hooks\u001b[0m\u001b[0;34m,\u001b[0m \u001b[0mnon_full_backward_hooks\u001b[0m \u001b[0;34m=\u001b[0m \u001b[0;34m[\u001b[0m\u001b[0;34m]\u001b[0m\u001b[0;34m,\u001b[0m \u001b[0;34m[\u001b[0m\u001b[0;34m]\u001b[0m\u001b[0;34m\u001b[0m\u001b[0;34m\u001b[0m\u001b[0m\n",
            "\u001b[0;32m/usr/local/lib/python3.7/dist-packages/torch/nn/modules/container.py\u001b[0m in \u001b[0;36mforward\u001b[0;34m(self, input)\u001b[0m\n\u001b[1;32m    139\u001b[0m     \u001b[0;32mdef\u001b[0m \u001b[0mforward\u001b[0m\u001b[0;34m(\u001b[0m\u001b[0mself\u001b[0m\u001b[0;34m,\u001b[0m \u001b[0minput\u001b[0m\u001b[0;34m)\u001b[0m\u001b[0;34m:\u001b[0m\u001b[0;34m\u001b[0m\u001b[0;34m\u001b[0m\u001b[0m\n\u001b[1;32m    140\u001b[0m         \u001b[0;32mfor\u001b[0m \u001b[0mmodule\u001b[0m \u001b[0;32min\u001b[0m \u001b[0mself\u001b[0m\u001b[0;34m:\u001b[0m\u001b[0;34m\u001b[0m\u001b[0;34m\u001b[0m\u001b[0m\n\u001b[0;32m--> 141\u001b[0;31m             \u001b[0minput\u001b[0m \u001b[0;34m=\u001b[0m \u001b[0mmodule\u001b[0m\u001b[0;34m(\u001b[0m\u001b[0minput\u001b[0m\u001b[0;34m)\u001b[0m\u001b[0;34m\u001b[0m\u001b[0;34m\u001b[0m\u001b[0m\n\u001b[0m\u001b[1;32m    142\u001b[0m         \u001b[0;32mreturn\u001b[0m \u001b[0minput\u001b[0m\u001b[0;34m\u001b[0m\u001b[0;34m\u001b[0m\u001b[0m\n\u001b[1;32m    143\u001b[0m \u001b[0;34m\u001b[0m\u001b[0m\n",
            "\u001b[0;32m/usr/local/lib/python3.7/dist-packages/torch/nn/modules/module.py\u001b[0m in \u001b[0;36m_call_impl\u001b[0;34m(self, *input, **kwargs)\u001b[0m\n\u001b[1;32m   1108\u001b[0m         if not (self._backward_hooks or self._forward_hooks or self._forward_pre_hooks or _global_backward_hooks\n\u001b[1;32m   1109\u001b[0m                 or _global_forward_hooks or _global_forward_pre_hooks):\n\u001b[0;32m-> 1110\u001b[0;31m             \u001b[0;32mreturn\u001b[0m \u001b[0mforward_call\u001b[0m\u001b[0;34m(\u001b[0m\u001b[0;34m*\u001b[0m\u001b[0minput\u001b[0m\u001b[0;34m,\u001b[0m \u001b[0;34m**\u001b[0m\u001b[0mkwargs\u001b[0m\u001b[0;34m)\u001b[0m\u001b[0;34m\u001b[0m\u001b[0;34m\u001b[0m\u001b[0m\n\u001b[0m\u001b[1;32m   1111\u001b[0m         \u001b[0;31m# Do not call functions when jit is used\u001b[0m\u001b[0;34m\u001b[0m\u001b[0;34m\u001b[0m\u001b[0;34m\u001b[0m\u001b[0m\n\u001b[1;32m   1112\u001b[0m         \u001b[0mfull_backward_hooks\u001b[0m\u001b[0;34m,\u001b[0m \u001b[0mnon_full_backward_hooks\u001b[0m \u001b[0;34m=\u001b[0m \u001b[0;34m[\u001b[0m\u001b[0;34m]\u001b[0m\u001b[0;34m,\u001b[0m \u001b[0;34m[\u001b[0m\u001b[0;34m]\u001b[0m\u001b[0;34m\u001b[0m\u001b[0;34m\u001b[0m\u001b[0m\n",
            "\u001b[0;32m<ipython-input-34-973e815dfbe2>\u001b[0m in \u001b[0;36mforward\u001b[0;34m(self, X)\u001b[0m\n\u001b[1;32m     30\u001b[0m         \u001b[0;31m#Y = F.relu(self.bn1(self.conv1(X)))\u001b[0m\u001b[0;34m\u001b[0m\u001b[0;34m\u001b[0m\u001b[0;34m\u001b[0m\u001b[0m\n\u001b[1;32m     31\u001b[0m         \u001b[0mprint\u001b[0m\u001b[0;34m(\u001b[0m\u001b[0;34m'X1'\u001b[0m\u001b[0;34m,\u001b[0m\u001b[0mX\u001b[0m\u001b[0;34m.\u001b[0m\u001b[0mshape\u001b[0m\u001b[0;34m)\u001b[0m\u001b[0;34m\u001b[0m\u001b[0;34m\u001b[0m\u001b[0m\n\u001b[0;32m---> 32\u001b[0;31m         \u001b[0mY\u001b[0m\u001b[0;34m=\u001b[0m\u001b[0mself\u001b[0m\u001b[0;34m.\u001b[0m\u001b[0mconv1\u001b[0m\u001b[0;34m(\u001b[0m\u001b[0mX\u001b[0m\u001b[0;34m)\u001b[0m\u001b[0;34m\u001b[0m\u001b[0;34m\u001b[0m\u001b[0m\n\u001b[0m\u001b[1;32m     33\u001b[0m         \u001b[0mY\u001b[0m\u001b[0;34m=\u001b[0m\u001b[0mself\u001b[0m\u001b[0;34m.\u001b[0m\u001b[0mbn1\u001b[0m\u001b[0;34m(\u001b[0m\u001b[0mY\u001b[0m\u001b[0;34m)\u001b[0m\u001b[0;34m\u001b[0m\u001b[0;34m\u001b[0m\u001b[0m\n\u001b[1;32m     34\u001b[0m         \u001b[0mY\u001b[0m\u001b[0;34m=\u001b[0m\u001b[0mF\u001b[0m\u001b[0;34m.\u001b[0m\u001b[0mrelu\u001b[0m\u001b[0;34m(\u001b[0m\u001b[0mY\u001b[0m\u001b[0;34m)\u001b[0m\u001b[0;34m\u001b[0m\u001b[0;34m\u001b[0m\u001b[0m\n",
            "\u001b[0;32m/usr/local/lib/python3.7/dist-packages/torch/nn/modules/module.py\u001b[0m in \u001b[0;36m_call_impl\u001b[0;34m(self, *input, **kwargs)\u001b[0m\n\u001b[1;32m   1108\u001b[0m         if not (self._backward_hooks or self._forward_hooks or self._forward_pre_hooks or _global_backward_hooks\n\u001b[1;32m   1109\u001b[0m                 or _global_forward_hooks or _global_forward_pre_hooks):\n\u001b[0;32m-> 1110\u001b[0;31m             \u001b[0;32mreturn\u001b[0m \u001b[0mforward_call\u001b[0m\u001b[0;34m(\u001b[0m\u001b[0;34m*\u001b[0m\u001b[0minput\u001b[0m\u001b[0;34m,\u001b[0m \u001b[0;34m**\u001b[0m\u001b[0mkwargs\u001b[0m\u001b[0;34m)\u001b[0m\u001b[0;34m\u001b[0m\u001b[0;34m\u001b[0m\u001b[0m\n\u001b[0m\u001b[1;32m   1111\u001b[0m         \u001b[0;31m# Do not call functions when jit is used\u001b[0m\u001b[0;34m\u001b[0m\u001b[0;34m\u001b[0m\u001b[0;34m\u001b[0m\u001b[0m\n\u001b[1;32m   1112\u001b[0m         \u001b[0mfull_backward_hooks\u001b[0m\u001b[0;34m,\u001b[0m \u001b[0mnon_full_backward_hooks\u001b[0m \u001b[0;34m=\u001b[0m \u001b[0;34m[\u001b[0m\u001b[0;34m]\u001b[0m\u001b[0;34m,\u001b[0m \u001b[0;34m[\u001b[0m\u001b[0;34m]\u001b[0m\u001b[0;34m\u001b[0m\u001b[0;34m\u001b[0m\u001b[0m\n",
            "\u001b[0;32m/usr/local/lib/python3.7/dist-packages/torch/nn/modules/conv.py\u001b[0m in \u001b[0;36mforward\u001b[0;34m(self, input)\u001b[0m\n\u001b[1;32m    445\u001b[0m \u001b[0;34m\u001b[0m\u001b[0m\n\u001b[1;32m    446\u001b[0m     \u001b[0;32mdef\u001b[0m \u001b[0mforward\u001b[0m\u001b[0;34m(\u001b[0m\u001b[0mself\u001b[0m\u001b[0;34m,\u001b[0m \u001b[0minput\u001b[0m\u001b[0;34m:\u001b[0m \u001b[0mTensor\u001b[0m\u001b[0;34m)\u001b[0m \u001b[0;34m->\u001b[0m \u001b[0mTensor\u001b[0m\u001b[0;34m:\u001b[0m\u001b[0;34m\u001b[0m\u001b[0;34m\u001b[0m\u001b[0m\n\u001b[0;32m--> 447\u001b[0;31m         \u001b[0;32mreturn\u001b[0m \u001b[0mself\u001b[0m\u001b[0;34m.\u001b[0m\u001b[0m_conv_forward\u001b[0m\u001b[0;34m(\u001b[0m\u001b[0minput\u001b[0m\u001b[0;34m,\u001b[0m \u001b[0mself\u001b[0m\u001b[0;34m.\u001b[0m\u001b[0mweight\u001b[0m\u001b[0;34m,\u001b[0m \u001b[0mself\u001b[0m\u001b[0;34m.\u001b[0m\u001b[0mbias\u001b[0m\u001b[0;34m)\u001b[0m\u001b[0;34m\u001b[0m\u001b[0;34m\u001b[0m\u001b[0m\n\u001b[0m\u001b[1;32m    448\u001b[0m \u001b[0;34m\u001b[0m\u001b[0m\n\u001b[1;32m    449\u001b[0m \u001b[0;32mclass\u001b[0m \u001b[0mConv3d\u001b[0m\u001b[0;34m(\u001b[0m\u001b[0m_ConvNd\u001b[0m\u001b[0;34m)\u001b[0m\u001b[0;34m:\u001b[0m\u001b[0;34m\u001b[0m\u001b[0;34m\u001b[0m\u001b[0m\n",
            "\u001b[0;32m/usr/local/lib/python3.7/dist-packages/torch/nn/modules/conv.py\u001b[0m in \u001b[0;36m_conv_forward\u001b[0;34m(self, input, weight, bias)\u001b[0m\n\u001b[1;32m    442\u001b[0m                             _pair(0), self.dilation, self.groups)\n\u001b[1;32m    443\u001b[0m         return F.conv2d(input, weight, bias, self.stride,\n\u001b[0;32m--> 444\u001b[0;31m                         self.padding, self.dilation, self.groups)\n\u001b[0m\u001b[1;32m    445\u001b[0m \u001b[0;34m\u001b[0m\u001b[0m\n\u001b[1;32m    446\u001b[0m     \u001b[0;32mdef\u001b[0m \u001b[0mforward\u001b[0m\u001b[0;34m(\u001b[0m\u001b[0mself\u001b[0m\u001b[0;34m,\u001b[0m \u001b[0minput\u001b[0m\u001b[0;34m:\u001b[0m \u001b[0mTensor\u001b[0m\u001b[0;34m)\u001b[0m \u001b[0;34m->\u001b[0m \u001b[0mTensor\u001b[0m\u001b[0;34m:\u001b[0m\u001b[0;34m\u001b[0m\u001b[0;34m\u001b[0m\u001b[0m\n",
            "\u001b[0;31mRuntimeError\u001b[0m: Given groups=1, weight of size [64, 256, 1, 1], expected input[1, 64, 56, 56] to have 256 channels, but got 64 channels instead"
          ]
        }
      ]
    },
    {
      "cell_type": "markdown",
      "source": [
        "##Res-net 34网络"
      ],
      "metadata": {
        "id": "aYn5d8D4gcGW"
      }
    },
    {
      "cell_type": "code",
      "source": [
        "import torch\n",
        "from torch import nn\n",
        "from torch.nn import functional as F\n",
        "\n",
        "\n",
        "class Residual(nn.Module):  \n",
        "    def __init__(self, input_channels, num_channels,\n",
        "                 use_1x1conv=False, strides=1):\n",
        "        super().__init__()\n",
        "        self.conv1 = nn.Conv2d(input_channels, num_channels,\n",
        "                               kernel_size=3, padding=1, stride=strides)\n",
        "        self.conv2 = nn.Conv2d(num_channels, num_channels,\n",
        "                               kernel_size=3, padding=1)\n",
        "        if use_1x1conv:\n",
        "            self.conv3 = nn.Conv2d(input_channels, num_channels,\n",
        "                                   kernel_size=1, stride=strides)\n",
        "        else:\n",
        "            self.conv3 = None\n",
        "        self.bn1 = nn.BatchNorm2d(num_channels)\n",
        "        self.bn2 = nn.BatchNorm2d(num_channels)\n",
        "\n",
        "    def forward(self, X):\n",
        "        Y = F.relu(self.bn1(self.conv1(X)))\n",
        "        Y = self.bn2(self.conv2(Y))\n",
        "        if self.conv3:\n",
        "            X = self.conv3(X)\n",
        "        Y += X\n",
        "        return F.relu(Y)\n",
        "\n",
        "def resnet_block(input_channels, num_channels, num_residuals,\n",
        "                 first_block=False):\n",
        "    blk = []\n",
        "    for i in range(num_residuals):\n",
        "        if i == 0 and not first_block:\n",
        "            blk.append(Residual(input_channels, num_channels,\n",
        "                                use_1x1conv=True, strides=2))\n",
        "        else:\n",
        "            blk.append(Residual(num_channels, num_channels))\n",
        "    return blk\n",
        "\n",
        "b1 = nn.Sequential(nn.Conv2d(1, 64, kernel_size=7, stride=2, padding=3),\n",
        "                   nn.BatchNorm2d(64), nn.ReLU(),\n",
        "                   nn.MaxPool2d(kernel_size=3, stride=2, padding=1))\n",
        "b2 = nn.Sequential(*resnet_block(64, 64, 3, first_block=True))\n",
        "b3 = nn.Sequential(*resnet_block(64, 128, 4))\n",
        "b4 = nn.Sequential(*resnet_block(128, 256, 6))\n",
        "b5 = nn.Sequential(*resnet_block(256, 512, 3))\n",
        "\n",
        "net = nn.Sequential(b1, b2, b3, b4, b5,\n",
        "                    nn.AdaptiveAvgPool2d((1,1)),\n",
        "                    nn.Flatten(), nn.Linear(512, 10))\n",
        "\n",
        "#检验输出\n",
        "X = torch.rand(size=(1, 1, 224, 224))\n",
        "for layer in net:\n",
        "    X = layer(X)\n",
        "    print(layer.__class__.__name__,'output shape:\\t', X.shape)"
      ],
      "metadata": {
        "colab": {
          "base_uri": "https://localhost:8080/"
        },
        "id": "5Qt_rLHMgcNt",
        "outputId": "33f98c12-de7d-46be-b57e-48f70c8126ec"
      },
      "execution_count": null,
      "outputs": [
        {
          "output_type": "stream",
          "name": "stdout",
          "text": [
            "Sequential output shape:\t torch.Size([1, 64, 56, 56])\n",
            "Sequential output shape:\t torch.Size([1, 64, 56, 56])\n",
            "Sequential output shape:\t torch.Size([1, 128, 28, 28])\n",
            "Sequential output shape:\t torch.Size([1, 256, 14, 14])\n",
            "Sequential output shape:\t torch.Size([1, 512, 7, 7])\n",
            "AdaptiveAvgPool2d output shape:\t torch.Size([1, 512, 1, 1])\n",
            "Flatten output shape:\t torch.Size([1, 512])\n",
            "Linear output shape:\t torch.Size([1, 10])\n"
          ]
        }
      ]
    },
    {
      "cell_type": "markdown",
      "source": [
        "##Res-net 50 (2)"
      ],
      "metadata": {
        "id": "NhO-JgPEa60P"
      }
    },
    {
      "cell_type": "code",
      "source": [
        "import torch\n",
        "from torch import nn\n",
        "from torch.nn import functional as F\n",
        "\n",
        "\n",
        "class Residual(nn.Module): \n",
        "    def __init__(self, input_channels, num_channels_1,num_channels_2,\n",
        "                 use_1x1conv=False, strides=1):\n",
        "        super().__init__()\n",
        "        self.conv1 = nn.Conv2d(input_channels, num_channels_1,  kernel_size=1, padding=0, stride=strides)\n",
        "        self.conv2 = nn.Conv2d(num_channels_1, num_channels_1,\n",
        "                               kernel_size=3, padding=1, stride=1)\n",
        "        self.conv3 = nn.Conv2d(num_channels_1, num_channels_2,\n",
        "                               kernel_size=1, padding=0, stride=1)\n",
        "        if use_1x1conv:\n",
        "            self.conv4 = nn.Conv2d(input_channels, num_channels_2,\n",
        "                                   kernel_size=1, stride=strides)\n",
        "        else:\n",
        "            self.conv4 = None\n",
        "        self.bn1 = nn.BatchNorm2d(num_channels_1)\n",
        "        self.bn2 = nn.BatchNorm2d(num_channels_1)\n",
        "        self.bn3 = nn.BatchNorm2d(num_channels_2)\n",
        "\n",
        "    def forward(self, X):\n",
        "        Y = F.relu(self.bn1(self.conv1(X)))\n",
        "        Y = self.bn2(self.conv2(Y))\n",
        "        Y = self.bn3(self.conv3(Y))\n",
        "        if self.conv4:\n",
        "            X = self.conv4(X)\n",
        "        Y += X\n",
        "        return F.relu(Y)\n",
        "\n",
        "def resnet_block(input_channels, num_channels_1,  num_channels_2, num_residuals,\n",
        "                 first_block=False):\n",
        "    blk = []\n",
        "    for i in range(num_residuals):\n",
        "        if i == 0 and not first_block:\n",
        "            blk.append(Residual(input_channels, num_channels_1, num_channels_2,\n",
        "                                use_1x1conv=True, strides=2))\n",
        "        elif i == 0 and first_block:\n",
        "            blk.append(Residual(input_channels, num_channels_1, num_channels_2,\n",
        "                                use_1x1conv=True))\n",
        "        else:\n",
        "            blk.append(Residual(num_channels_2, num_channels_1, num_channels_2))\n",
        "    return blk\n",
        "\n",
        "b1 = nn.Sequential(nn.Conv2d(1, 64, kernel_size=7, stride=2, padding=3),\n",
        "                   nn.BatchNorm2d(64), nn.ReLU(),\n",
        "                   nn.MaxPool2d(kernel_size=3, stride=2, padding=1))\n",
        "b2 = nn.Sequential(*resnet_block(64,  64, 256, 3, first_block=True))\n",
        "b3 = nn.Sequential(*resnet_block(256, 128, 512, 4))\n",
        "b4 = nn.Sequential(*resnet_block(512, 256, 1024, 6))\n",
        "b5 = nn.Sequential(*resnet_block(1024,  512, 2048, 3))\n",
        "\n",
        "net = nn.Sequential(b1, b2, b3, b4, b5,\n",
        "                    nn.AdaptiveAvgPool2d((1,1)),\n",
        "                    nn.Flatten(), nn.Linear(2048, 10))\n",
        "\n",
        "#检验输出\n",
        "X = torch.rand(size=(1, 1, 224, 224))\n",
        "for layer in net:\n",
        "    X = layer(X)\n",
        "    print(layer.__class__.__name__,'output shape:\\t', X.shape)"
      ],
      "metadata": {
        "colab": {
          "base_uri": "https://localhost:8080/"
        },
        "id": "TFS8wqzFa68f",
        "outputId": "8b342fbd-d242-458f-81fc-e3e2528cf593"
      },
      "execution_count": null,
      "outputs": [
        {
          "output_type": "stream",
          "name": "stdout",
          "text": [
            "Sequential output shape:\t torch.Size([1, 64, 56, 56])\n",
            "Sequential output shape:\t torch.Size([1, 256, 56, 56])\n",
            "Sequential output shape:\t torch.Size([1, 512, 28, 28])\n",
            "Sequential output shape:\t torch.Size([1, 1024, 14, 14])\n",
            "Sequential output shape:\t torch.Size([1, 2048, 7, 7])\n",
            "AdaptiveAvgPool2d output shape:\t torch.Size([1, 2048, 1, 1])\n",
            "Flatten output shape:\t torch.Size([1, 2048])\n",
            "Linear output shape:\t torch.Size([1, 10])\n"
          ]
        }
      ]
    },
    {
      "cell_type": "markdown",
      "source": [
        "##Res-net 50 (3)"
      ],
      "metadata": {
        "id": "mNfh_IlNCSrx"
      }
    },
    {
      "cell_type": "code",
      "source": [
        "class ConvBlock(nn.Module):\n",
        "    def __init__(self, in_channel, f, filters, s):\n",
        "        super(ConvBlock,self).__init__()\n",
        "        F1, F2, F3 = filters\n",
        "        self.stage = nn.Sequential(\n",
        "            nn.Conv2d(in_channel,F1,1,stride=s, padding=0, bias=False),\n",
        "            nn.BatchNorm2d(F1),\n",
        "            nn.ReLU(True),\n",
        "            nn.Conv2d(F1,F2,f,stride=1, padding=True, bias=False),\n",
        "            nn.BatchNorm2d(F2),\n",
        "            nn.ReLU(True),\n",
        "            nn.Conv2d(F2,F3,1,stride=1, padding=0, bias=False),\n",
        "            nn.BatchNorm2d(F3),\n",
        "        )\n",
        "        self.shortcut_1 = nn.Conv2d(in_channel, F3, 1, stride=s, padding=0, bias=False)\n",
        "        self.batch_1 = nn.BatchNorm2d(F3)\n",
        "        self.relu_1 = nn.ReLU(True)\n",
        "        \n",
        "    def forward(self, X):\n",
        "        X_shortcut = self.shortcut_1(X)\n",
        "        X_shortcut = self.batch_1(X_shortcut)\n",
        "        X = self.stage(X)\n",
        "        X = X + X_shortcut\n",
        "        X = self.relu_1(X)\n",
        "        return X    \n",
        "    \n",
        "class IndentityBlock(nn.Module):\n",
        "    def __init__(self, in_channel, f, filters):\n",
        "        super(IndentityBlock,self).__init__()\n",
        "        F1, F2, F3 = filters\n",
        "        self.stage = nn.Sequential(\n",
        "            nn.Conv2d(in_channel,F1,1,stride=1, padding=0, bias=False),\n",
        "            nn.BatchNorm2d(F1),\n",
        "            nn.ReLU(True),\n",
        "            nn.Conv2d(F1,F2,f,stride=1, padding=True, bias=False),\n",
        "            nn.BatchNorm2d(F2),\n",
        "            nn.ReLU(True),\n",
        "            nn.Conv2d(F2,F3,1,stride=1, padding=0, bias=False),\n",
        "            nn.BatchNorm2d(F3),\n",
        "        )\n",
        "        self.relu_1 = nn.ReLU(True)\n",
        "        \n",
        "    def forward(self, X):\n",
        "        X_shortcut = X\n",
        "        X = self.stage(X)\n",
        "        X = X + X_shortcut\n",
        "        X = self.relu_1(X)\n",
        "        return X\n",
        "    \n",
        "class ResModel(nn.Module):\n",
        "    def __init__(self, n_class):\n",
        "        super(ResModel,self).__init__()\n",
        "        self.stage1 = nn.Sequential(\n",
        "            nn.Conv2d(3,64,7,stride=2, padding=3, bias=False),\n",
        "            nn.BatchNorm2d(64),\n",
        "            nn.ReLU(True),\n",
        "            nn.MaxPool2d(3,2,padding=1),\n",
        "        )\n",
        "        self.stage2 = nn.Sequential(\n",
        "            ConvBlock(64, f=3, filters=[64, 64, 256], s=1),\n",
        "            IndentityBlock(256, 3, [64, 64, 256]),\n",
        "            IndentityBlock(256, 3, [64, 64, 256]),\n",
        "        )\n",
        "        self.stage3 = nn.Sequential(\n",
        "            ConvBlock(256, f=3, filters=[128, 128, 512], s=2),\n",
        "            IndentityBlock(512, 3, [128, 128, 512]),\n",
        "            IndentityBlock(512, 3, [128, 128, 512]),\n",
        "            IndentityBlock(512, 3, [128, 128, 512]),\n",
        "        )\n",
        "        self.stage4 = nn.Sequential(\n",
        "            ConvBlock(512, f=3, filters=[256, 256, 1024], s=2),\n",
        "            IndentityBlock(1024, 3, [256, 256, 1024]),\n",
        "            IndentityBlock(1024, 3, [256, 256, 1024]),\n",
        "            IndentityBlock(1024, 3, [256, 256, 1024]),\n",
        "            IndentityBlock(1024, 3, [256, 256, 1024]),\n",
        "            IndentityBlock(1024, 3, [256, 256, 1024]),\n",
        "        )\n",
        "        self.stage5 = nn.Sequential(\n",
        "            ConvBlock(1024, f=3, filters=[512, 512, 2048], s=2),\n",
        "            IndentityBlock(2048, 3, [512, 512, 2048]),\n",
        "            IndentityBlock(2048, 3, [512, 512, 2048]),\n",
        "        )\n",
        "        self.pool = nn.AvgPool2d(2,2,padding=1)\n",
        "        self.fc = nn.Sequential(\n",
        "            nn.Linear(8192,n_class)\n",
        "        )\n",
        "    \n",
        "    def forward(self, X):\n",
        "        out = self.stage1(X)\n",
        "        out = self.stage2(out)\n",
        "        out = self.stage3(out)\n",
        "        out = self.stage4(out)\n",
        "        out = self.stage5(out)\n",
        "        out = self.pool(out)\n",
        "        out = out.view(out.size(0),8192)\n",
        "        out = self.fc(out)\n",
        "        return out"
      ],
      "metadata": {
        "id": "1UuYjQHrCS4J"
      },
      "execution_count": null,
      "outputs": []
    }
  ]
}