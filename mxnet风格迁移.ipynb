{
  "nbformat": 4,
  "nbformat_minor": 0,
  "metadata": {
    "colab": {
      "name": "mxnet风格迁移.ipynb",
      "provenance": [],
      "collapsed_sections": [],
      "mount_file_id": "1AnQ1_WRXkIlYaVa-jRLHs97EVCeaNPYr",
      "authorship_tag": "ABX9TyP+K5sLqw10Rcsq1i+8cfef",
      "include_colab_link": true
    },
    "kernelspec": {
      "name": "python3",
      "display_name": "Python 3"
    },
    "language_info": {
      "name": "python"
    }
  },
  "cells": [
    {
      "cell_type": "markdown",
      "metadata": {
        "id": "view-in-github",
        "colab_type": "text"
      },
      "source": [
        "<a href=\"https://colab.research.google.com/github/ZhangYHe/MyColabDL_Repo/blob/main/mxnet%E9%A3%8E%E6%A0%BC%E8%BF%81%E7%A7%BB.ipynb\" target=\"_parent\"><img src=\"https://colab.research.google.com/assets/colab-badge.svg\" alt=\"Open In Colab\"/></a>"
      ]
    },
    {
      "cell_type": "code",
      "execution_count": 2,
      "metadata": {
        "id": "318cf8f6",
        "colab": {
          "base_uri": "https://localhost:8080/",
          "height": 1000
        },
        "outputId": "7d2b0aed-6fdd-43fe-89e0-4c372d3b2022"
      },
      "outputs": [
        {
          "output_type": "stream",
          "name": "stdout",
          "text": [
            "Looking in indexes: https://pypi.org/simple, https://us-python.pkg.dev/colab-wheels/public/simple/\n",
            "Collecting git+https://github.com/d2l-ai/d2l-zh@release\n",
            "  Cloning https://github.com/d2l-ai/d2l-zh (to revision release) to /tmp/pip-req-build-a279k1h7\n",
            "  Running command git clone -q https://github.com/d2l-ai/d2l-zh /tmp/pip-req-build-a279k1h7\n",
            "  Running command git checkout -b release --track origin/release\n",
            "  Switched to a new branch 'release'\n",
            "  Branch 'release' set up to track remote branch 'release' from 'origin'.\n",
            "  Running command git submodule update --init --recursive -q\n",
            "Requirement already satisfied: jupyter==1.0.0 in /usr/local/lib/python3.7/dist-packages (from d2l==2.0.0b0) (1.0.0)\n",
            "Collecting numpy==1.21.5\n",
            "  Downloading numpy-1.21.5-cp37-cp37m-manylinux_2_12_x86_64.manylinux2010_x86_64.whl (15.7 MB)\n",
            "\u001b[K     |████████████████████████████████| 15.7 MB 5.0 MB/s \n",
            "\u001b[?25hCollecting matplotlib==3.5.1\n",
            "  Downloading matplotlib-3.5.1-cp37-cp37m-manylinux_2_5_x86_64.manylinux1_x86_64.whl (11.2 MB)\n",
            "\u001b[K     |████████████████████████████████| 11.2 MB 40.6 MB/s \n",
            "\u001b[?25hCollecting requests==2.25.1\n",
            "  Downloading requests-2.25.1-py2.py3-none-any.whl (61 kB)\n",
            "\u001b[K     |████████████████████████████████| 61 kB 7.5 MB/s \n",
            "\u001b[?25hCollecting pandas==1.2.4\n",
            "  Downloading pandas-1.2.4-cp37-cp37m-manylinux1_x86_64.whl (9.9 MB)\n",
            "\u001b[K     |████████████████████████████████| 9.9 MB 27.1 MB/s \n",
            "\u001b[?25hRequirement already satisfied: nbconvert in /usr/local/lib/python3.7/dist-packages (from jupyter==1.0.0->d2l==2.0.0b0) (5.6.1)\n",
            "Requirement already satisfied: ipywidgets in /usr/local/lib/python3.7/dist-packages (from jupyter==1.0.0->d2l==2.0.0b0) (7.7.0)\n",
            "Requirement already satisfied: qtconsole in /usr/local/lib/python3.7/dist-packages (from jupyter==1.0.0->d2l==2.0.0b0) (5.3.1)\n",
            "Requirement already satisfied: jupyter-console in /usr/local/lib/python3.7/dist-packages (from jupyter==1.0.0->d2l==2.0.0b0) (5.2.0)\n",
            "Requirement already satisfied: ipykernel in /usr/local/lib/python3.7/dist-packages (from jupyter==1.0.0->d2l==2.0.0b0) (4.10.1)\n",
            "Requirement already satisfied: notebook in /usr/local/lib/python3.7/dist-packages (from jupyter==1.0.0->d2l==2.0.0b0) (5.3.1)\n",
            "Requirement already satisfied: pillow>=6.2.0 in /usr/local/lib/python3.7/dist-packages (from matplotlib==3.5.1->d2l==2.0.0b0) (7.1.2)\n",
            "Requirement already satisfied: python-dateutil>=2.7 in /usr/local/lib/python3.7/dist-packages (from matplotlib==3.5.1->d2l==2.0.0b0) (2.8.2)\n",
            "Collecting fonttools>=4.22.0\n",
            "  Downloading fonttools-4.33.3-py3-none-any.whl (930 kB)\n",
            "\u001b[K     |████████████████████████████████| 930 kB 43.6 MB/s \n",
            "\u001b[?25hRequirement already satisfied: pyparsing>=2.2.1 in /usr/local/lib/python3.7/dist-packages (from matplotlib==3.5.1->d2l==2.0.0b0) (3.0.9)\n",
            "Requirement already satisfied: kiwisolver>=1.0.1 in /usr/local/lib/python3.7/dist-packages (from matplotlib==3.5.1->d2l==2.0.0b0) (1.4.3)\n",
            "Requirement already satisfied: cycler>=0.10 in /usr/local/lib/python3.7/dist-packages (from matplotlib==3.5.1->d2l==2.0.0b0) (0.11.0)\n",
            "Requirement already satisfied: packaging>=20.0 in /usr/local/lib/python3.7/dist-packages (from matplotlib==3.5.1->d2l==2.0.0b0) (21.3)\n",
            "Requirement already satisfied: pytz>=2017.3 in /usr/local/lib/python3.7/dist-packages (from pandas==1.2.4->d2l==2.0.0b0) (2022.1)\n",
            "Requirement already satisfied: chardet<5,>=3.0.2 in /usr/local/lib/python3.7/dist-packages (from requests==2.25.1->d2l==2.0.0b0) (3.0.4)\n",
            "Requirement already satisfied: urllib3<1.27,>=1.21.1 in /usr/local/lib/python3.7/dist-packages (from requests==2.25.1->d2l==2.0.0b0) (1.24.3)\n",
            "Requirement already satisfied: certifi>=2017.4.17 in /usr/local/lib/python3.7/dist-packages (from requests==2.25.1->d2l==2.0.0b0) (2022.6.15)\n",
            "Requirement already satisfied: idna<3,>=2.5 in /usr/local/lib/python3.7/dist-packages (from requests==2.25.1->d2l==2.0.0b0) (2.10)\n",
            "Requirement already satisfied: typing-extensions in /usr/local/lib/python3.7/dist-packages (from kiwisolver>=1.0.1->matplotlib==3.5.1->d2l==2.0.0b0) (4.1.1)\n",
            "Requirement already satisfied: six>=1.5 in /usr/local/lib/python3.7/dist-packages (from python-dateutil>=2.7->matplotlib==3.5.1->d2l==2.0.0b0) (1.15.0)\n",
            "Requirement already satisfied: traitlets>=4.1.0 in /usr/local/lib/python3.7/dist-packages (from ipykernel->jupyter==1.0.0->d2l==2.0.0b0) (5.1.1)\n",
            "Requirement already satisfied: jupyter-client in /usr/local/lib/python3.7/dist-packages (from ipykernel->jupyter==1.0.0->d2l==2.0.0b0) (5.3.5)\n",
            "Requirement already satisfied: ipython>=4.0.0 in /usr/local/lib/python3.7/dist-packages (from ipykernel->jupyter==1.0.0->d2l==2.0.0b0) (5.5.0)\n",
            "Requirement already satisfied: tornado>=4.0 in /usr/local/lib/python3.7/dist-packages (from ipykernel->jupyter==1.0.0->d2l==2.0.0b0) (5.1.1)\n",
            "Requirement already satisfied: pickleshare in /usr/local/lib/python3.7/dist-packages (from ipython>=4.0.0->ipykernel->jupyter==1.0.0->d2l==2.0.0b0) (0.7.5)\n",
            "Requirement already satisfied: prompt-toolkit<2.0.0,>=1.0.4 in /usr/local/lib/python3.7/dist-packages (from ipython>=4.0.0->ipykernel->jupyter==1.0.0->d2l==2.0.0b0) (1.0.18)\n",
            "Requirement already satisfied: decorator in /usr/local/lib/python3.7/dist-packages (from ipython>=4.0.0->ipykernel->jupyter==1.0.0->d2l==2.0.0b0) (4.4.2)\n",
            "Requirement already satisfied: setuptools>=18.5 in /usr/local/lib/python3.7/dist-packages (from ipython>=4.0.0->ipykernel->jupyter==1.0.0->d2l==2.0.0b0) (57.4.0)\n",
            "Requirement already satisfied: pexpect in /usr/local/lib/python3.7/dist-packages (from ipython>=4.0.0->ipykernel->jupyter==1.0.0->d2l==2.0.0b0) (4.8.0)\n",
            "Requirement already satisfied: simplegeneric>0.8 in /usr/local/lib/python3.7/dist-packages (from ipython>=4.0.0->ipykernel->jupyter==1.0.0->d2l==2.0.0b0) (0.8.1)\n",
            "Requirement already satisfied: pygments in /usr/local/lib/python3.7/dist-packages (from ipython>=4.0.0->ipykernel->jupyter==1.0.0->d2l==2.0.0b0) (2.6.1)\n",
            "Requirement already satisfied: wcwidth in /usr/local/lib/python3.7/dist-packages (from prompt-toolkit<2.0.0,>=1.0.4->ipython>=4.0.0->ipykernel->jupyter==1.0.0->d2l==2.0.0b0) (0.2.5)\n",
            "Requirement already satisfied: nbformat>=4.2.0 in /usr/local/lib/python3.7/dist-packages (from ipywidgets->jupyter==1.0.0->d2l==2.0.0b0) (5.4.0)\n",
            "Requirement already satisfied: jupyterlab-widgets>=1.0.0 in /usr/local/lib/python3.7/dist-packages (from ipywidgets->jupyter==1.0.0->d2l==2.0.0b0) (1.1.0)\n",
            "Requirement already satisfied: widgetsnbextension~=3.6.0 in /usr/local/lib/python3.7/dist-packages (from ipywidgets->jupyter==1.0.0->d2l==2.0.0b0) (3.6.0)\n",
            "Requirement already satisfied: ipython-genutils~=0.2.0 in /usr/local/lib/python3.7/dist-packages (from ipywidgets->jupyter==1.0.0->d2l==2.0.0b0) (0.2.0)\n",
            "Requirement already satisfied: jsonschema>=2.6 in /usr/local/lib/python3.7/dist-packages (from nbformat>=4.2.0->ipywidgets->jupyter==1.0.0->d2l==2.0.0b0) (4.3.3)\n",
            "Requirement already satisfied: jupyter-core in /usr/local/lib/python3.7/dist-packages (from nbformat>=4.2.0->ipywidgets->jupyter==1.0.0->d2l==2.0.0b0) (4.10.0)\n",
            "Requirement already satisfied: fastjsonschema in /usr/local/lib/python3.7/dist-packages (from nbformat>=4.2.0->ipywidgets->jupyter==1.0.0->d2l==2.0.0b0) (2.15.3)\n",
            "Requirement already satisfied: pyrsistent!=0.17.0,!=0.17.1,!=0.17.2,>=0.14.0 in /usr/local/lib/python3.7/dist-packages (from jsonschema>=2.6->nbformat>=4.2.0->ipywidgets->jupyter==1.0.0->d2l==2.0.0b0) (0.18.1)\n",
            "Requirement already satisfied: attrs>=17.4.0 in /usr/local/lib/python3.7/dist-packages (from jsonschema>=2.6->nbformat>=4.2.0->ipywidgets->jupyter==1.0.0->d2l==2.0.0b0) (21.4.0)\n",
            "Requirement already satisfied: importlib-metadata in /usr/local/lib/python3.7/dist-packages (from jsonschema>=2.6->nbformat>=4.2.0->ipywidgets->jupyter==1.0.0->d2l==2.0.0b0) (4.11.4)\n",
            "Requirement already satisfied: importlib-resources>=1.4.0 in /usr/local/lib/python3.7/dist-packages (from jsonschema>=2.6->nbformat>=4.2.0->ipywidgets->jupyter==1.0.0->d2l==2.0.0b0) (5.7.1)\n",
            "Requirement already satisfied: zipp>=3.1.0 in /usr/local/lib/python3.7/dist-packages (from importlib-resources>=1.4.0->jsonschema>=2.6->nbformat>=4.2.0->ipywidgets->jupyter==1.0.0->d2l==2.0.0b0) (3.8.0)\n",
            "Requirement already satisfied: Send2Trash in /usr/local/lib/python3.7/dist-packages (from notebook->jupyter==1.0.0->d2l==2.0.0b0) (1.8.0)\n",
            "Requirement already satisfied: terminado>=0.8.1 in /usr/local/lib/python3.7/dist-packages (from notebook->jupyter==1.0.0->d2l==2.0.0b0) (0.13.3)\n",
            "Requirement already satisfied: jinja2 in /usr/local/lib/python3.7/dist-packages (from notebook->jupyter==1.0.0->d2l==2.0.0b0) (2.11.3)\n",
            "Requirement already satisfied: pyzmq>=13 in /usr/local/lib/python3.7/dist-packages (from jupyter-client->ipykernel->jupyter==1.0.0->d2l==2.0.0b0) (23.1.0)\n",
            "Requirement already satisfied: ptyprocess in /usr/local/lib/python3.7/dist-packages (from terminado>=0.8.1->notebook->jupyter==1.0.0->d2l==2.0.0b0) (0.7.0)\n",
            "Requirement already satisfied: MarkupSafe>=0.23 in /usr/local/lib/python3.7/dist-packages (from jinja2->notebook->jupyter==1.0.0->d2l==2.0.0b0) (2.0.1)\n",
            "Requirement already satisfied: defusedxml in /usr/local/lib/python3.7/dist-packages (from nbconvert->jupyter==1.0.0->d2l==2.0.0b0) (0.7.1)\n",
            "Requirement already satisfied: pandocfilters>=1.4.1 in /usr/local/lib/python3.7/dist-packages (from nbconvert->jupyter==1.0.0->d2l==2.0.0b0) (1.5.0)\n",
            "Requirement already satisfied: bleach in /usr/local/lib/python3.7/dist-packages (from nbconvert->jupyter==1.0.0->d2l==2.0.0b0) (5.0.0)\n",
            "Requirement already satisfied: entrypoints>=0.2.2 in /usr/local/lib/python3.7/dist-packages (from nbconvert->jupyter==1.0.0->d2l==2.0.0b0) (0.4)\n",
            "Requirement already satisfied: testpath in /usr/local/lib/python3.7/dist-packages (from nbconvert->jupyter==1.0.0->d2l==2.0.0b0) (0.6.0)\n",
            "Requirement already satisfied: mistune<2,>=0.8.1 in /usr/local/lib/python3.7/dist-packages (from nbconvert->jupyter==1.0.0->d2l==2.0.0b0) (0.8.4)\n",
            "Requirement already satisfied: webencodings in /usr/local/lib/python3.7/dist-packages (from bleach->nbconvert->jupyter==1.0.0->d2l==2.0.0b0) (0.5.1)\n",
            "Requirement already satisfied: qtpy>=2.0.1 in /usr/local/lib/python3.7/dist-packages (from qtconsole->jupyter==1.0.0->d2l==2.0.0b0) (2.1.0)\n",
            "Building wheels for collected packages: d2l\n",
            "  Building wheel for d2l (setup.py) ... \u001b[?25l\u001b[?25hdone\n",
            "  Created wheel for d2l: filename=d2l-2.0.0b0-py3-none-any.whl size=80152 sha256=f533223d24be47a1d992e462cdf3c284ab43e4c316a392ebce808a052da08f44\n",
            "  Stored in directory: /tmp/pip-ephem-wheel-cache-46f44uow/wheels/73/f4/42/d2b85ca46d85a241d6aa57c1c24027de2d2258202bb67945f9\n",
            "Successfully built d2l\n",
            "Installing collected packages: numpy, fonttools, requests, pandas, matplotlib, d2l\n",
            "  Attempting uninstall: numpy\n",
            "    Found existing installation: numpy 1.21.6\n",
            "    Uninstalling numpy-1.21.6:\n",
            "      Successfully uninstalled numpy-1.21.6\n",
            "  Attempting uninstall: requests\n",
            "    Found existing installation: requests 2.23.0\n",
            "    Uninstalling requests-2.23.0:\n",
            "      Successfully uninstalled requests-2.23.0\n",
            "  Attempting uninstall: pandas\n",
            "    Found existing installation: pandas 1.3.5\n",
            "    Uninstalling pandas-1.3.5:\n",
            "      Successfully uninstalled pandas-1.3.5\n",
            "  Attempting uninstall: matplotlib\n",
            "    Found existing installation: matplotlib 3.2.2\n",
            "    Uninstalling matplotlib-3.2.2:\n",
            "      Successfully uninstalled matplotlib-3.2.2\n",
            "\u001b[31mERROR: pip's dependency resolver does not currently take into account all the packages that are installed. This behaviour is the source of the following dependency conflicts.\n",
            "google-colab 1.0.0 requires requests~=2.23.0, but you have requests 2.25.1 which is incompatible.\n",
            "datascience 0.10.6 requires folium==0.2.1, but you have folium 0.8.3 which is incompatible.\n",
            "albumentations 0.1.12 requires imgaug<0.2.7,>=0.2.5, but you have imgaug 0.2.9 which is incompatible.\u001b[0m\n",
            "Successfully installed d2l-2.0.0b0 fonttools-4.33.3 matplotlib-3.5.1 numpy-1.21.5 pandas-1.2.4 requests-2.25.1\n"
          ]
        },
        {
          "output_type": "display_data",
          "data": {
            "application/vnd.colab-display-data+json": {
              "pip_warning": {
                "packages": [
                  "matplotlib",
                  "mpl_toolkits",
                  "numpy"
                ]
              }
            }
          },
          "metadata": {}
        },
        {
          "output_type": "stream",
          "name": "stdout",
          "text": [
            "Looking in indexes: https://pypi.org/simple, https://us-python.pkg.dev/colab-wheels/public/simple/\n",
            "Collecting mxnet-cu101==1.7.0\n",
            "  Downloading mxnet_cu101-1.7.0-py2.py3-none-manylinux2014_x86_64.whl (846.0 MB)\n",
            "\u001b[K     |███████████████████████████████▌| 834.1 MB 1.4 MB/s eta 0:00:09tcmalloc: large alloc 1147494400 bytes == 0x3a04c000 @  0x7f1589790615 0x592b76 0x4df71e 0x59afff 0x515655 0x549576 0x593fce 0x548ae9 0x51566f 0x549576 0x593fce 0x548ae9 0x5127f1 0x598e3b 0x511f68 0x598e3b 0x511f68 0x598e3b 0x511f68 0x4bc98a 0x532e76 0x594b72 0x515600 0x549576 0x593fce 0x548ae9 0x5127f1 0x549576 0x593fce 0x5118f8 0x593dd7\n",
            "\u001b[K     |████████████████████████████████| 846.0 MB 18 kB/s \n",
            "\u001b[?25hRequirement already satisfied: numpy<2.0.0,>1.16.0 in /usr/local/lib/python3.7/dist-packages (from mxnet-cu101==1.7.0) (1.21.5)\n",
            "Requirement already satisfied: requests<3,>=2.20.0 in /usr/local/lib/python3.7/dist-packages (from mxnet-cu101==1.7.0) (2.25.1)\n",
            "Collecting graphviz<0.9.0,>=0.8.1\n",
            "  Downloading graphviz-0.8.4-py2.py3-none-any.whl (16 kB)\n",
            "Requirement already satisfied: certifi>=2017.4.17 in /usr/local/lib/python3.7/dist-packages (from requests<3,>=2.20.0->mxnet-cu101==1.7.0) (2022.6.15)\n",
            "Requirement already satisfied: chardet<5,>=3.0.2 in /usr/local/lib/python3.7/dist-packages (from requests<3,>=2.20.0->mxnet-cu101==1.7.0) (3.0.4)\n",
            "Requirement already satisfied: idna<3,>=2.5 in /usr/local/lib/python3.7/dist-packages (from requests<3,>=2.20.0->mxnet-cu101==1.7.0) (2.10)\n",
            "Requirement already satisfied: urllib3<1.27,>=1.21.1 in /usr/local/lib/python3.7/dist-packages (from requests<3,>=2.20.0->mxnet-cu101==1.7.0) (1.24.3)\n",
            "Installing collected packages: graphviz, mxnet-cu101\n",
            "  Attempting uninstall: graphviz\n",
            "    Found existing installation: graphviz 0.10.1\n",
            "    Uninstalling graphviz-0.10.1:\n",
            "      Successfully uninstalled graphviz-0.10.1\n",
            "Successfully installed graphviz-0.8.4 mxnet-cu101-1.7.0\n",
            "\u001b[31mERROR: Invalid requirement: '=='\u001b[0m\n"
          ]
        }
      ],
      "source": [
        "# !pip install git+https://github.com/d2l-ai/d2l-zh@release  # installing d2l\n",
        "# !pip install -U mxnet-cu101==1.7.0\n",
        "# !pip install matplotlib == 3.1.1"
      ]
    },
    {
      "cell_type": "code",
      "execution_count": 7,
      "metadata": {
        "id": "m-kC2ml5QGAL"
      },
      "outputs": [],
      "source": [
        "#%matplotlib inline\n",
        "from mxnet import autograd, gluon, image, init, np, npx\n",
        "from mxnet.gluon import nn\n",
        "from d2l import mxnet as d2l\n",
        "import matplotlib.pyplot as plt\n",
        "\n",
        "npx.set_np()\n",
        "\n",
        "#导入内容图和风格图\n",
        "content_img = image.imread('content.jpg')\n",
        "style_img = image.imread('style.jpg')"
      ]
    },
    {
      "cell_type": "code",
      "source": [
        "rgb_mean = np.array([0.485, 0.456, 0.406])\n",
        "rgb_std = np.array([0.229, 0.224, 0.225])\n",
        "\n",
        "#预处理，将图片RGB通道做标准化\n",
        "def preprocess(img, image_shape):\n",
        "    img = image.imresize(img, *image_shape)\n",
        "    img = (img.astype('float32') / 255 - rgb_mean) / rgb_std\n",
        "    return np.expand_dims(img.transpose(2, 0, 1), axis=0)\n",
        "\n",
        "#后处理，将输出还原为图片原始格式\n",
        "def postprocess(img):\n",
        "    img = img[0].as_in_ctx(rgb_std.ctx)\n",
        "    return (img.transpose(1, 2, 0) * rgb_std + rgb_mean).clip(0, 1)\n",
        "\n",
        "\n",
        "# def postprocess(image):# 后处理图像\n",
        "#     new_image=(image.transpose((1, 2, 0)) * rgb_std + rgb_mean).clip(0, 1)\n",
        "#     new_image=(new_image*255).asnumpy().astype(np.uint8)\n",
        "#     return new_image\n"
      ],
      "metadata": {
        "id": "YJaESDNCSC1J"
      },
      "execution_count": null,
      "outputs": []
    },
    {
      "cell_type": "code",
      "source": [
        "#使用预训练的VGG-19网络进行特征提取\n",
        "pretrained_net = gluon.model_zoo.vision.vgg19(pretrained=True)\n",
        "\n",
        "#选取风格层和内容层\n",
        "style_layers, content_layers = [0, 5, 10, 19, 28], [25]\n",
        "\n",
        "net = nn.Sequential()\n",
        "for i in range(max(content_layers + style_layers) + 1):\n",
        "    net.add(pretrained_net.features[i])"
      ],
      "metadata": {
        "id": "Pm8rO_HXSEMh"
      },
      "execution_count": null,
      "outputs": []
    },
    {
      "cell_type": "code",
      "source": [
        "#保留每一层的输出\n",
        "def extract_features(X, content_layers, style_layers):\n",
        "    contents = []\n",
        "    styles = []\n",
        "    for i in range(len(net)):\n",
        "        X = net[i](X)\n",
        "        if i in style_layers:\n",
        "            styles.append(X)\n",
        "        if i in content_layers:\n",
        "            contents.append(X)\n",
        "    return contents, styles"
      ],
      "metadata": {
        "id": "hzCAXwTsSJ_y"
      },
      "execution_count": null,
      "outputs": []
    },
    {
      "cell_type": "code",
      "source": [
        "#进行内容特征提取\n",
        "def get_contents(image_shape, device):\n",
        "    content_X = preprocess(content_img, image_shape).copyto(device)\n",
        "    contents_Y, _ = extract_features(content_X, content_layers, style_layers)\n",
        "    return content_X, contents_Y\n",
        "\n",
        "#进行风格特征提取\n",
        "def get_styles(image_shape, device):\n",
        "    style_X = preprocess(style_img, image_shape).copyto(device)\n",
        "    _, styles_Y = extract_features(style_X, content_layers, style_layers)\n",
        "    return style_X, styles_Y"
      ],
      "metadata": {
        "id": "UwFBV_ZMSLjT"
      },
      "execution_count": null,
      "outputs": []
    },
    {
      "cell_type": "code",
      "source": [
        "#内容损失为合成图与内容图平方损失\n",
        "def content_loss(Y_hat, Y):\n",
        "    return np.square(Y_hat - Y).mean()\n",
        "\n",
        "#计算格拉姆矩阵\n",
        "def gram(X):\n",
        "    num_channels, n = X.shape[1], d2l.size(X) // X.shape[1]\n",
        "    X = X.reshape((num_channels, n))\n",
        "    return np.dot(X, X.T) / (num_channels * n)\n",
        "\n",
        "#计算风格损失\n",
        "def style_loss(Y_hat, gram_Y):\n",
        "    return np.square(gram(Y_hat) - gram_Y).mean()\n",
        "\n",
        "#计算tv损失\n",
        "def tv_loss(Y_hat):\n",
        "    return 0.5 * (np.abs(Y_hat[:, :, 1:, :] - Y_hat[:, :, :-1, :]).mean() +\n",
        "                  np.abs(Y_hat[:, :, :, 1:] - Y_hat[:, :, :, :-1]).mean())\n",
        "\n",
        "#给定每种损失所占比重    \n",
        "content_weight, style_weight, tv_weight = 1, 1e3, 10\n",
        "\n",
        "#总损失函数\n",
        "def compute_loss(X, contents_Y_hat, styles_Y_hat, contents_Y, styles_Y_gram):\n",
        "    contents_l = [content_loss(Y_hat, Y) * content_weight for Y_hat, Y in zip(\n",
        "        contents_Y_hat, contents_Y)]\n",
        "    styles_l = [style_loss(Y_hat, Y) * style_weight for Y_hat, Y in zip(\n",
        "        styles_Y_hat, styles_Y_gram)]\n",
        "    tv_l = tv_loss(X) * tv_weight\n",
        "    # 对所有损失求和\n",
        "    l = sum(10 * styles_l + contents_l + [tv_l])\n",
        "    return contents_l, styles_l, tv_l, l"
      ],
      "metadata": {
        "id": "uP0xjkqFSNAp"
      },
      "execution_count": null,
      "outputs": []
    },
    {
      "cell_type": "code",
      "source": [
        "#初始化合成图像\n",
        "class SynthesizedImage(nn.Block):\n",
        "    def __init__(self, img_shape, **kwargs):\n",
        "        super(SynthesizedImage, self).__init__(**kwargs)\n",
        "        self.weight = self.params.get('weight', shape=img_shape)\n",
        "\n",
        "    def forward(self):\n",
        "        return self.weight.data()"
      ],
      "metadata": {
        "id": "rIgqq_veSXEJ"
      },
      "execution_count": null,
      "outputs": []
    },
    {
      "cell_type": "code",
      "source": [
        "#进行初始化，计算每个风格层格拉姆矩阵\n",
        "def get_inits(X, device, lr, styles_Y):\n",
        "    gen_img = SynthesizedImage(X.shape)\n",
        "    gen_img.initialize(init.Constant(X), ctx=device, force_reinit=True)\n",
        "    trainer = gluon.Trainer(gen_img.collect_params(), 'adam',\n",
        "                            {'learning_rate': lr})\n",
        "    styles_Y_gram = [gram(Y) for Y in styles_Y]\n",
        "    return gen_img(), styles_Y_gram, trainer"
      ],
      "metadata": {
        "id": "KQIp2qW_SZUh"
      },
      "execution_count": null,
      "outputs": []
    },
    {
      "cell_type": "code",
      "source": [
        "#模型训练\n",
        "def train(X, contents_Y, styles_Y, device, lr, num_epochs, lr_decay_epoch):\n",
        "    X, styles_Y_gram, trainer = get_inits(X, device, lr, styles_Y)\n",
        "    animator = d2l.Animator(xlabel='epoch', ylabel='loss',\n",
        "                            xlim=[10, num_epochs], ylim=[0, 20],\n",
        "                            legend=['content', 'style', 'TV'],\n",
        "                            ncols=2, figsize=(7, 2.5))\n",
        "    for epoch in range(num_epochs):\n",
        "        with autograd.record():\n",
        "            contents_Y_hat, styles_Y_hat = extract_features(\n",
        "                X, content_layers, style_layers)\n",
        "            contents_l, styles_l, tv_l, l = compute_loss(\n",
        "                X, contents_Y_hat, styles_Y_hat, contents_Y, styles_Y_gram)\n",
        "        l.backward()\n",
        "        trainer.step(1)\n",
        "        if (epoch + 1) % lr_decay_epoch == 0:\n",
        "            trainer.set_learning_rate(trainer.learning_rate * 0.8)\n",
        "        if (epoch + 1) % 10 == 0:\n",
        "            animator.axes[1].imshow(postprocess(X).asnumpy())\n",
        "            animator.add(epoch + 1, [float(sum(contents_l)),\n",
        "                                     float(sum(styles_l)), float(tv_l)])\n",
        "    return X"
      ],
      "metadata": {
        "id": "UPnEP_UiSawC"
      },
      "execution_count": null,
      "outputs": []
    },
    {
      "cell_type": "code",
      "source": [
        "#图片尺寸与内容图尺寸相同\n",
        "device, image_shape = d2l.try_gpu(), (225, 300)\n",
        "net.collect_params().reset_ctx(device)\n",
        "content_X, contents_Y = get_contents(image_shape, device)\n",
        "_, styles_Y = get_styles(image_shape, device)\n",
        "output = train(content_X, contents_Y, styles_Y, device, 0.9, 500, 50)"
      ],
      "metadata": {
        "id": "ZjBaCZE2ScXI",
        "colab": {
          "base_uri": "https://localhost:8080/",
          "height": 267
        },
        "outputId": "75fb9b26-5f30-4543-f2d8-de4a21b4d964"
      },
      "execution_count": null,
      "outputs": [
        {
          "output_type": "display_data",
          "data": {
            "text/plain": [
              "<Figure size 504x180 with 2 Axes>"
            ],
            "image/svg+xml": "<?xml version=\"1.0\" encoding=\"utf-8\" standalone=\"no\"?>\n<!DOCTYPE svg PUBLIC \"-//W3C//DTD SVG 1.1//EN\"\n  \"http://www.w3.org/Graphics/SVG/1.1/DTD/svg11.dtd\">\n<svg xmlns:xlink=\"http://www.w3.org/1999/xlink\" width=\"400.592898pt\" height=\"184.455469pt\" viewBox=\"0 0 400.592898 184.455469\" xmlns=\"http://www.w3.org/2000/svg\" version=\"1.1\">\n <metadata>\n  <rdf:RDF xmlns:dc=\"http://purl.org/dc/elements/1.1/\" xmlns:cc=\"http://creativecommons.org/ns#\" xmlns:rdf=\"http://www.w3.org/1999/02/22-rdf-syntax-ns#\">\n   <cc:Work>\n    <dc:type rdf:resource=\"http://purl.org/dc/dcmitype/StillImage\"/>\n    <dc:date>2022-06-25T02:51:58.858563</dc:date>\n    <dc:format>image/svg+xml</dc:format>\n    <dc:creator>\n     <cc:Agent>\n      <dc:title>Matplotlib v3.5.1, https://matplotlib.org/</dc:title>\n     </cc:Agent>\n    </dc:creator>\n   </cc:Work>\n  </rdf:RDF>\n </metadata>\n <defs>\n  <style type=\"text/css\">*{stroke-linejoin: round; stroke-linecap: butt}</style>\n </defs>\n <g id=\"figure_1\">\n  <g id=\"patch_1\">\n   <path d=\"M 0 184.455469 \nL 400.592898 184.455469 \nL 400.592898 -0 \nL 0 -0 \nL 0 184.455469 \nz\n\" style=\"fill: none\"/>\n  </g>\n  <g id=\"axes_1\">\n   <g id=\"patch_2\">\n    <path d=\"M 40.603125 146.899219 \nL 218.14858 146.899219 \nL 218.14858 10.999219 \nL 40.603125 10.999219 \nz\n\" style=\"fill: #ffffff\"/>\n   </g>\n   <g id=\"matplotlib.axis_1\">\n    <g id=\"xtick_1\">\n     <g id=\"line2d_1\">\n      <path d=\"M 73.213515 146.899219 \nL 73.213515 10.999219 \n\" clip-path=\"url(#p8cadd18738)\" style=\"fill: none; stroke: #b0b0b0; stroke-width: 0.8; stroke-linecap: square\"/>\n     </g>\n     <g id=\"line2d_2\">\n      <defs>\n       <path id=\"m72dfc93035\" d=\"M 0 0 \nL 0 3.5 \n\" style=\"stroke: #000000; stroke-width: 0.8\"/>\n      </defs>\n      <g>\n       <use xlink:href=\"#m72dfc93035\" x=\"73.213515\" y=\"146.899219\" style=\"stroke: #000000; stroke-width: 0.8\"/>\n      </g>\n     </g>\n     <g id=\"text_1\">\n      <!-- 100 -->\n      <g transform=\"translate(63.669765 161.497656)scale(0.1 -0.1)\">\n       <defs>\n        <path id=\"DejaVuSans-31\" d=\"M 794 531 \nL 1825 531 \nL 1825 4091 \nL 703 3866 \nL 703 4441 \nL 1819 4666 \nL 2450 4666 \nL 2450 531 \nL 3481 531 \nL 3481 0 \nL 794 0 \nL 794 531 \nz\n\" transform=\"scale(0.015625)\"/>\n        <path id=\"DejaVuSans-30\" d=\"M 2034 4250 \nQ 1547 4250 1301 3770 \nQ 1056 3291 1056 2328 \nQ 1056 1369 1301 889 \nQ 1547 409 2034 409 \nQ 2525 409 2770 889 \nQ 3016 1369 3016 2328 \nQ 3016 3291 2770 3770 \nQ 2525 4250 2034 4250 \nz\nM 2034 4750 \nQ 2819 4750 3233 4129 \nQ 3647 3509 3647 2328 \nQ 3647 1150 3233 529 \nQ 2819 -91 2034 -91 \nQ 1250 -91 836 529 \nQ 422 1150 422 2328 \nQ 422 3509 836 4129 \nQ 1250 4750 2034 4750 \nz\n\" transform=\"scale(0.015625)\"/>\n       </defs>\n       <use xlink:href=\"#DejaVuSans-31\"/>\n       <use xlink:href=\"#DejaVuSans-30\" x=\"63.623047\"/>\n       <use xlink:href=\"#DejaVuSans-30\" x=\"127.246094\"/>\n      </g>\n     </g>\n    </g>\n    <g id=\"xtick_2\">\n     <g id=\"line2d_3\">\n      <path d=\"M 109.447281 146.899219 \nL 109.447281 10.999219 \n\" clip-path=\"url(#p8cadd18738)\" style=\"fill: none; stroke: #b0b0b0; stroke-width: 0.8; stroke-linecap: square\"/>\n     </g>\n     <g id=\"line2d_4\">\n      <g>\n       <use xlink:href=\"#m72dfc93035\" x=\"109.447281\" y=\"146.899219\" style=\"stroke: #000000; stroke-width: 0.8\"/>\n      </g>\n     </g>\n     <g id=\"text_2\">\n      <!-- 200 -->\n      <g transform=\"translate(99.903531 161.497656)scale(0.1 -0.1)\">\n       <defs>\n        <path id=\"DejaVuSans-32\" d=\"M 1228 531 \nL 3431 531 \nL 3431 0 \nL 469 0 \nL 469 531 \nQ 828 903 1448 1529 \nQ 2069 2156 2228 2338 \nQ 2531 2678 2651 2914 \nQ 2772 3150 2772 3378 \nQ 2772 3750 2511 3984 \nQ 2250 4219 1831 4219 \nQ 1534 4219 1204 4116 \nQ 875 4013 500 3803 \nL 500 4441 \nQ 881 4594 1212 4672 \nQ 1544 4750 1819 4750 \nQ 2544 4750 2975 4387 \nQ 3406 4025 3406 3419 \nQ 3406 3131 3298 2873 \nQ 3191 2616 2906 2266 \nQ 2828 2175 2409 1742 \nQ 1991 1309 1228 531 \nz\n\" transform=\"scale(0.015625)\"/>\n       </defs>\n       <use xlink:href=\"#DejaVuSans-32\"/>\n       <use xlink:href=\"#DejaVuSans-30\" x=\"63.623047\"/>\n       <use xlink:href=\"#DejaVuSans-30\" x=\"127.246094\"/>\n      </g>\n     </g>\n    </g>\n    <g id=\"xtick_3\">\n     <g id=\"line2d_5\">\n      <path d=\"M 145.681047 146.899219 \nL 145.681047 10.999219 \n\" clip-path=\"url(#p8cadd18738)\" style=\"fill: none; stroke: #b0b0b0; stroke-width: 0.8; stroke-linecap: square\"/>\n     </g>\n     <g id=\"line2d_6\">\n      <g>\n       <use xlink:href=\"#m72dfc93035\" x=\"145.681047\" y=\"146.899219\" style=\"stroke: #000000; stroke-width: 0.8\"/>\n      </g>\n     </g>\n     <g id=\"text_3\">\n      <!-- 300 -->\n      <g transform=\"translate(136.137297 161.497656)scale(0.1 -0.1)\">\n       <defs>\n        <path id=\"DejaVuSans-33\" d=\"M 2597 2516 \nQ 3050 2419 3304 2112 \nQ 3559 1806 3559 1356 \nQ 3559 666 3084 287 \nQ 2609 -91 1734 -91 \nQ 1441 -91 1130 -33 \nQ 819 25 488 141 \nL 488 750 \nQ 750 597 1062 519 \nQ 1375 441 1716 441 \nQ 2309 441 2620 675 \nQ 2931 909 2931 1356 \nQ 2931 1769 2642 2001 \nQ 2353 2234 1838 2234 \nL 1294 2234 \nL 1294 2753 \nL 1863 2753 \nQ 2328 2753 2575 2939 \nQ 2822 3125 2822 3475 \nQ 2822 3834 2567 4026 \nQ 2313 4219 1838 4219 \nQ 1578 4219 1281 4162 \nQ 984 4106 628 3988 \nL 628 4550 \nQ 988 4650 1302 4700 \nQ 1616 4750 1894 4750 \nQ 2613 4750 3031 4423 \nQ 3450 4097 3450 3541 \nQ 3450 3153 3228 2886 \nQ 3006 2619 2597 2516 \nz\n\" transform=\"scale(0.015625)\"/>\n       </defs>\n       <use xlink:href=\"#DejaVuSans-33\"/>\n       <use xlink:href=\"#DejaVuSans-30\" x=\"63.623047\"/>\n       <use xlink:href=\"#DejaVuSans-30\" x=\"127.246094\"/>\n      </g>\n     </g>\n    </g>\n    <g id=\"xtick_4\">\n     <g id=\"line2d_7\">\n      <path d=\"M 181.914813 146.899219 \nL 181.914813 10.999219 \n\" clip-path=\"url(#p8cadd18738)\" style=\"fill: none; stroke: #b0b0b0; stroke-width: 0.8; stroke-linecap: square\"/>\n     </g>\n     <g id=\"line2d_8\">\n      <g>\n       <use xlink:href=\"#m72dfc93035\" x=\"181.914813\" y=\"146.899219\" style=\"stroke: #000000; stroke-width: 0.8\"/>\n      </g>\n     </g>\n     <g id=\"text_4\">\n      <!-- 400 -->\n      <g transform=\"translate(172.371063 161.497656)scale(0.1 -0.1)\">\n       <defs>\n        <path id=\"DejaVuSans-34\" d=\"M 2419 4116 \nL 825 1625 \nL 2419 1625 \nL 2419 4116 \nz\nM 2253 4666 \nL 3047 4666 \nL 3047 1625 \nL 3713 1625 \nL 3713 1100 \nL 3047 1100 \nL 3047 0 \nL 2419 0 \nL 2419 1100 \nL 313 1100 \nL 313 1709 \nL 2253 4666 \nz\n\" transform=\"scale(0.015625)\"/>\n       </defs>\n       <use xlink:href=\"#DejaVuSans-34\"/>\n       <use xlink:href=\"#DejaVuSans-30\" x=\"63.623047\"/>\n       <use xlink:href=\"#DejaVuSans-30\" x=\"127.246094\"/>\n      </g>\n     </g>\n    </g>\n    <g id=\"xtick_5\">\n     <g id=\"line2d_9\">\n      <path d=\"M 218.14858 146.899219 \nL 218.14858 10.999219 \n\" clip-path=\"url(#p8cadd18738)\" style=\"fill: none; stroke: #b0b0b0; stroke-width: 0.8; stroke-linecap: square\"/>\n     </g>\n     <g id=\"line2d_10\">\n      <g>\n       <use xlink:href=\"#m72dfc93035\" x=\"218.14858\" y=\"146.899219\" style=\"stroke: #000000; stroke-width: 0.8\"/>\n      </g>\n     </g>\n     <g id=\"text_5\">\n      <!-- 500 -->\n      <g transform=\"translate(208.60483 161.497656)scale(0.1 -0.1)\">\n       <defs>\n        <path id=\"DejaVuSans-35\" d=\"M 691 4666 \nL 3169 4666 \nL 3169 4134 \nL 1269 4134 \nL 1269 2991 \nQ 1406 3038 1543 3061 \nQ 1681 3084 1819 3084 \nQ 2600 3084 3056 2656 \nQ 3513 2228 3513 1497 \nQ 3513 744 3044 326 \nQ 2575 -91 1722 -91 \nQ 1428 -91 1123 -41 \nQ 819 9 494 109 \nL 494 744 \nQ 775 591 1075 516 \nQ 1375 441 1709 441 \nQ 2250 441 2565 725 \nQ 2881 1009 2881 1497 \nQ 2881 1984 2565 2268 \nQ 2250 2553 1709 2553 \nQ 1456 2553 1204 2497 \nQ 953 2441 691 2322 \nL 691 4666 \nz\n\" transform=\"scale(0.015625)\"/>\n       </defs>\n       <use xlink:href=\"#DejaVuSans-35\"/>\n       <use xlink:href=\"#DejaVuSans-30\" x=\"63.623047\"/>\n       <use xlink:href=\"#DejaVuSans-30\" x=\"127.246094\"/>\n      </g>\n     </g>\n    </g>\n    <g id=\"text_6\">\n     <!-- epoch -->\n     <g transform=\"translate(114.147727 175.175781)scale(0.1 -0.1)\">\n      <defs>\n       <path id=\"DejaVuSans-65\" d=\"M 3597 1894 \nL 3597 1613 \nL 953 1613 \nQ 991 1019 1311 708 \nQ 1631 397 2203 397 \nQ 2534 397 2845 478 \nQ 3156 559 3463 722 \nL 3463 178 \nQ 3153 47 2828 -22 \nQ 2503 -91 2169 -91 \nQ 1331 -91 842 396 \nQ 353 884 353 1716 \nQ 353 2575 817 3079 \nQ 1281 3584 2069 3584 \nQ 2775 3584 3186 3129 \nQ 3597 2675 3597 1894 \nz\nM 3022 2063 \nQ 3016 2534 2758 2815 \nQ 2500 3097 2075 3097 \nQ 1594 3097 1305 2825 \nQ 1016 2553 972 2059 \nL 3022 2063 \nz\n\" transform=\"scale(0.015625)\"/>\n       <path id=\"DejaVuSans-70\" d=\"M 1159 525 \nL 1159 -1331 \nL 581 -1331 \nL 581 3500 \nL 1159 3500 \nL 1159 2969 \nQ 1341 3281 1617 3432 \nQ 1894 3584 2278 3584 \nQ 2916 3584 3314 3078 \nQ 3713 2572 3713 1747 \nQ 3713 922 3314 415 \nQ 2916 -91 2278 -91 \nQ 1894 -91 1617 61 \nQ 1341 213 1159 525 \nz\nM 3116 1747 \nQ 3116 2381 2855 2742 \nQ 2594 3103 2138 3103 \nQ 1681 3103 1420 2742 \nQ 1159 2381 1159 1747 \nQ 1159 1113 1420 752 \nQ 1681 391 2138 391 \nQ 2594 391 2855 752 \nQ 3116 1113 3116 1747 \nz\n\" transform=\"scale(0.015625)\"/>\n       <path id=\"DejaVuSans-6f\" d=\"M 1959 3097 \nQ 1497 3097 1228 2736 \nQ 959 2375 959 1747 \nQ 959 1119 1226 758 \nQ 1494 397 1959 397 \nQ 2419 397 2687 759 \nQ 2956 1122 2956 1747 \nQ 2956 2369 2687 2733 \nQ 2419 3097 1959 3097 \nz\nM 1959 3584 \nQ 2709 3584 3137 3096 \nQ 3566 2609 3566 1747 \nQ 3566 888 3137 398 \nQ 2709 -91 1959 -91 \nQ 1206 -91 779 398 \nQ 353 888 353 1747 \nQ 353 2609 779 3096 \nQ 1206 3584 1959 3584 \nz\n\" transform=\"scale(0.015625)\"/>\n       <path id=\"DejaVuSans-63\" d=\"M 3122 3366 \nL 3122 2828 \nQ 2878 2963 2633 3030 \nQ 2388 3097 2138 3097 \nQ 1578 3097 1268 2742 \nQ 959 2388 959 1747 \nQ 959 1106 1268 751 \nQ 1578 397 2138 397 \nQ 2388 397 2633 464 \nQ 2878 531 3122 666 \nL 3122 134 \nQ 2881 22 2623 -34 \nQ 2366 -91 2075 -91 \nQ 1284 -91 818 406 \nQ 353 903 353 1747 \nQ 353 2603 823 3093 \nQ 1294 3584 2113 3584 \nQ 2378 3584 2631 3529 \nQ 2884 3475 3122 3366 \nz\n\" transform=\"scale(0.015625)\"/>\n       <path id=\"DejaVuSans-68\" d=\"M 3513 2113 \nL 3513 0 \nL 2938 0 \nL 2938 2094 \nQ 2938 2591 2744 2837 \nQ 2550 3084 2163 3084 \nQ 1697 3084 1428 2787 \nQ 1159 2491 1159 1978 \nL 1159 0 \nL 581 0 \nL 581 4863 \nL 1159 4863 \nL 1159 2956 \nQ 1366 3272 1645 3428 \nQ 1925 3584 2291 3584 \nQ 2894 3584 3203 3211 \nQ 3513 2838 3513 2113 \nz\n\" transform=\"scale(0.015625)\"/>\n      </defs>\n      <use xlink:href=\"#DejaVuSans-65\"/>\n      <use xlink:href=\"#DejaVuSans-70\" x=\"61.523438\"/>\n      <use xlink:href=\"#DejaVuSans-6f\" x=\"125\"/>\n      <use xlink:href=\"#DejaVuSans-63\" x=\"186.181641\"/>\n      <use xlink:href=\"#DejaVuSans-68\" x=\"241.162109\"/>\n     </g>\n    </g>\n   </g>\n   <g id=\"matplotlib.axis_2\">\n    <g id=\"ytick_1\">\n     <g id=\"line2d_11\">\n      <path d=\"M 40.603125 146.899219 \nL 218.14858 146.899219 \n\" clip-path=\"url(#p8cadd18738)\" style=\"fill: none; stroke: #b0b0b0; stroke-width: 0.8; stroke-linecap: square\"/>\n     </g>\n     <g id=\"line2d_12\">\n      <defs>\n       <path id=\"mfc6adf04c7\" d=\"M 0 0 \nL -3.5 0 \n\" style=\"stroke: #000000; stroke-width: 0.8\"/>\n      </defs>\n      <g>\n       <use xlink:href=\"#mfc6adf04c7\" x=\"40.603125\" y=\"146.899219\" style=\"stroke: #000000; stroke-width: 0.8\"/>\n      </g>\n     </g>\n     <g id=\"text_7\">\n      <!-- 0 -->\n      <g transform=\"translate(27.240625 150.698437)scale(0.1 -0.1)\">\n       <use xlink:href=\"#DejaVuSans-30\"/>\n      </g>\n     </g>\n    </g>\n    <g id=\"ytick_2\">\n     <g id=\"line2d_13\">\n      <path d=\"M 40.603125 112.924219 \nL 218.14858 112.924219 \n\" clip-path=\"url(#p8cadd18738)\" style=\"fill: none; stroke: #b0b0b0; stroke-width: 0.8; stroke-linecap: square\"/>\n     </g>\n     <g id=\"line2d_14\">\n      <g>\n       <use xlink:href=\"#mfc6adf04c7\" x=\"40.603125\" y=\"112.924219\" style=\"stroke: #000000; stroke-width: 0.8\"/>\n      </g>\n     </g>\n     <g id=\"text_8\">\n      <!-- 5 -->\n      <g transform=\"translate(27.240625 116.723437)scale(0.1 -0.1)\">\n       <use xlink:href=\"#DejaVuSans-35\"/>\n      </g>\n     </g>\n    </g>\n    <g id=\"ytick_3\">\n     <g id=\"line2d_15\">\n      <path d=\"M 40.603125 78.949219 \nL 218.14858 78.949219 \n\" clip-path=\"url(#p8cadd18738)\" style=\"fill: none; stroke: #b0b0b0; stroke-width: 0.8; stroke-linecap: square\"/>\n     </g>\n     <g id=\"line2d_16\">\n      <g>\n       <use xlink:href=\"#mfc6adf04c7\" x=\"40.603125\" y=\"78.949219\" style=\"stroke: #000000; stroke-width: 0.8\"/>\n      </g>\n     </g>\n     <g id=\"text_9\">\n      <!-- 10 -->\n      <g transform=\"translate(20.878125 82.748437)scale(0.1 -0.1)\">\n       <use xlink:href=\"#DejaVuSans-31\"/>\n       <use xlink:href=\"#DejaVuSans-30\" x=\"63.623047\"/>\n      </g>\n     </g>\n    </g>\n    <g id=\"ytick_4\">\n     <g id=\"line2d_17\">\n      <path d=\"M 40.603125 44.974219 \nL 218.14858 44.974219 \n\" clip-path=\"url(#p8cadd18738)\" style=\"fill: none; stroke: #b0b0b0; stroke-width: 0.8; stroke-linecap: square\"/>\n     </g>\n     <g id=\"line2d_18\">\n      <g>\n       <use xlink:href=\"#mfc6adf04c7\" x=\"40.603125\" y=\"44.974219\" style=\"stroke: #000000; stroke-width: 0.8\"/>\n      </g>\n     </g>\n     <g id=\"text_10\">\n      <!-- 15 -->\n      <g transform=\"translate(20.878125 48.773437)scale(0.1 -0.1)\">\n       <use xlink:href=\"#DejaVuSans-31\"/>\n       <use xlink:href=\"#DejaVuSans-35\" x=\"63.623047\"/>\n      </g>\n     </g>\n    </g>\n    <g id=\"ytick_5\">\n     <g id=\"line2d_19\">\n      <path d=\"M 40.603125 10.999219 \nL 218.14858 10.999219 \n\" clip-path=\"url(#p8cadd18738)\" style=\"fill: none; stroke: #b0b0b0; stroke-width: 0.8; stroke-linecap: square\"/>\n     </g>\n     <g id=\"line2d_20\">\n      <g>\n       <use xlink:href=\"#mfc6adf04c7\" x=\"40.603125\" y=\"10.999219\" style=\"stroke: #000000; stroke-width: 0.8\"/>\n      </g>\n     </g>\n     <g id=\"text_11\">\n      <!-- 20 -->\n      <g transform=\"translate(20.878125 14.798437)scale(0.1 -0.1)\">\n       <use xlink:href=\"#DejaVuSans-32\"/>\n       <use xlink:href=\"#DejaVuSans-30\" x=\"63.623047\"/>\n      </g>\n     </g>\n    </g>\n    <g id=\"text_12\">\n     <!-- loss -->\n     <g transform=\"translate(14.798438 88.607031)rotate(-90)scale(0.1 -0.1)\">\n      <defs>\n       <path id=\"DejaVuSans-6c\" d=\"M 603 4863 \nL 1178 4863 \nL 1178 0 \nL 603 0 \nL 603 4863 \nz\n\" transform=\"scale(0.015625)\"/>\n       <path id=\"DejaVuSans-73\" d=\"M 2834 3397 \nL 2834 2853 \nQ 2591 2978 2328 3040 \nQ 2066 3103 1784 3103 \nQ 1356 3103 1142 2972 \nQ 928 2841 928 2578 \nQ 928 2378 1081 2264 \nQ 1234 2150 1697 2047 \nL 1894 2003 \nQ 2506 1872 2764 1633 \nQ 3022 1394 3022 966 \nQ 3022 478 2636 193 \nQ 2250 -91 1575 -91 \nQ 1294 -91 989 -36 \nQ 684 19 347 128 \nL 347 722 \nQ 666 556 975 473 \nQ 1284 391 1588 391 \nQ 1994 391 2212 530 \nQ 2431 669 2431 922 \nQ 2431 1156 2273 1281 \nQ 2116 1406 1581 1522 \nL 1381 1569 \nQ 847 1681 609 1914 \nQ 372 2147 372 2553 \nQ 372 3047 722 3315 \nQ 1072 3584 1716 3584 \nQ 2034 3584 2315 3537 \nQ 2597 3491 2834 3397 \nz\n\" transform=\"scale(0.015625)\"/>\n      </defs>\n      <use xlink:href=\"#DejaVuSans-6c\"/>\n      <use xlink:href=\"#DejaVuSans-6f\" x=\"27.783203\"/>\n      <use xlink:href=\"#DejaVuSans-73\" x=\"88.964844\"/>\n      <use xlink:href=\"#DejaVuSans-73\" x=\"141.064453\"/>\n     </g>\n    </g>\n   </g>\n   <g id=\"line2d_21\">\n    <path clip-path=\"url(#p8cadd18738)\" style=\"fill: none; stroke: #1f77b4; stroke-width: 1.5; stroke-linecap: square\"/>\n   </g>\n   <g id=\"line2d_22\">\n    <path d=\"M 47.738463 -1 \nL 47.849878 3.421097 \nL 51.473255 81.802342 \nL 55.096631 109.896334 \nL 58.720008 120.467365 \nL 62.343385 130.241912 \nL 65.966761 133.960876 \nL 69.590138 133.309525 \nL 73.213515 134.962191 \nL 76.836891 136.925569 \nL 80.460268 136.132487 \nL 84.083644 137.066181 \nL 87.707021 135.406262 \nL 91.330398 138.091908 \nL 94.953774 138.525826 \nL 98.577151 138.375565 \nL 102.200528 138.694166 \nL 105.823904 138.980887 \nL 109.447281 138.366607 \nL 113.070657 139.059613 \nL 116.694034 139.363666 \nL 120.317411 138.688427 \nL 123.940787 139.131575 \nL 127.564164 137.671178 \nL 131.187541 139.440358 \nL 134.810917 139.651154 \nL 138.434294 139.818307 \nL 142.05767 137.10383 \nL 145.681047 139.620537 \nL 149.304424 139.709619 \nL 152.9278 139.937911 \nL 156.551177 140.02447 \nL 160.174554 140.081631 \nL 163.79793 139.371888 \nL 167.421307 140.118616 \nL 171.044683 140.113928 \nL 174.66806 140.215297 \nL 178.291437 140.225281 \nL 181.914813 140.271924 \nL 185.53819 140.299927 \nL 189.161567 140.317034 \nL 192.784943 140.344879 \nL 196.40832 140.362678 \nL 200.031696 140.382828 \nL 203.655073 140.403538 \nL 207.27845 140.417667 \nL 210.901826 140.429044 \nL 214.525203 140.447361 \nL 218.14858 140.462756 \n\" clip-path=\"url(#p8cadd18738)\" style=\"fill: none; stroke-dasharray: 5.55,2.4; stroke-dashoffset: 0; stroke: #bf00bf; stroke-width: 1.5\"/>\n   </g>\n   <g id=\"line2d_23\">\n    <path d=\"M 40.603125 63.835007 \nL 44.226502 69.793528 \nL 47.849878 74.96513 \nL 51.473255 80.108646 \nL 55.096631 83.839262 \nL 58.720008 86.29332 \nL 62.343385 88.162785 \nL 65.966761 89.749563 \nL 69.590138 91.080826 \nL 73.213515 92.341689 \nL 76.836891 93.388898 \nL 80.460268 94.319801 \nL 84.083644 95.261895 \nL 87.707021 96.210819 \nL 91.330398 97.075947 \nL 94.953774 97.830251 \nL 98.577151 98.544131 \nL 102.200528 99.274841 \nL 105.823904 99.977001 \nL 109.447281 100.655629 \nL 113.070657 101.23857 \nL 116.694034 101.802174 \nL 120.317411 102.323407 \nL 123.940787 102.864706 \nL 127.564164 103.429126 \nL 131.187541 103.828862 \nL 134.810917 104.261393 \nL 138.434294 104.700464 \nL 142.05767 105.105594 \nL 145.681047 105.391511 \nL 149.304424 105.697027 \nL 152.9278 106.076567 \nL 156.551177 106.436835 \nL 160.174554 106.787223 \nL 163.79793 107.109633 \nL 167.421307 107.373074 \nL 171.044683 107.634359 \nL 174.66806 107.899053 \nL 178.291437 108.162332 \nL 181.914813 108.417312 \nL 185.53819 108.626319 \nL 189.161567 108.829752 \nL 192.784943 109.029194 \nL 196.40832 109.225489 \nL 200.031696 109.421441 \nL 203.655073 109.582011 \nL 207.27845 109.739124 \nL 210.901826 109.894789 \nL 214.525203 110.049296 \nL 218.14858 110.201815 \n\" clip-path=\"url(#p8cadd18738)\" style=\"fill: none; stroke-dasharray: 9.6,2.4,1.5,2.4; stroke-dashoffset: 0; stroke: #008000; stroke-width: 1.5\"/>\n   </g>\n   <g id=\"patch_3\">\n    <path d=\"M 40.603125 146.899219 \nL 40.603125 10.999219 \n\" style=\"fill: none; stroke: #000000; stroke-width: 0.8; stroke-linejoin: miter; stroke-linecap: square\"/>\n   </g>\n   <g id=\"patch_4\">\n    <path d=\"M 218.14858 146.899219 \nL 218.14858 10.999219 \n\" style=\"fill: none; stroke: #000000; stroke-width: 0.8; stroke-linejoin: miter; stroke-linecap: square\"/>\n   </g>\n   <g id=\"patch_5\">\n    <path d=\"M 40.603125 146.899219 \nL 218.14858 146.899219 \n\" style=\"fill: none; stroke: #000000; stroke-width: 0.8; stroke-linejoin: miter; stroke-linecap: square\"/>\n   </g>\n   <g id=\"patch_6\">\n    <path d=\"M 40.603125 10.999219 \nL 218.14858 10.999219 \n\" style=\"fill: none; stroke: #000000; stroke-width: 0.8; stroke-linejoin: miter; stroke-linecap: square\"/>\n   </g>\n   <g id=\"legend_1\">\n    <g id=\"patch_7\">\n     <path d=\"M 140.862642 63.033594 \nL 211.14858 63.033594 \nQ 213.14858 63.033594 213.14858 61.033594 \nL 213.14858 17.999219 \nQ 213.14858 15.999219 211.14858 15.999219 \nL 140.862642 15.999219 \nQ 138.862642 15.999219 138.862642 17.999219 \nL 138.862642 61.033594 \nQ 138.862642 63.033594 140.862642 63.033594 \nz\n\" style=\"fill: #ffffff; opacity: 0.8; stroke: #cccccc; stroke-linejoin: miter\"/>\n    </g>\n    <g id=\"line2d_24\">\n     <path d=\"M 142.862642 24.097656 \nL 152.862642 24.097656 \nL 162.862642 24.097656 \n\" style=\"fill: none; stroke: #1f77b4; stroke-width: 1.5; stroke-linecap: square\"/>\n    </g>\n    <g id=\"text_13\">\n     <!-- content -->\n     <g transform=\"translate(170.862642 27.597656)scale(0.1 -0.1)\">\n      <defs>\n       <path id=\"DejaVuSans-6e\" d=\"M 3513 2113 \nL 3513 0 \nL 2938 0 \nL 2938 2094 \nQ 2938 2591 2744 2837 \nQ 2550 3084 2163 3084 \nQ 1697 3084 1428 2787 \nQ 1159 2491 1159 1978 \nL 1159 0 \nL 581 0 \nL 581 3500 \nL 1159 3500 \nL 1159 2956 \nQ 1366 3272 1645 3428 \nQ 1925 3584 2291 3584 \nQ 2894 3584 3203 3211 \nQ 3513 2838 3513 2113 \nz\n\" transform=\"scale(0.015625)\"/>\n       <path id=\"DejaVuSans-74\" d=\"M 1172 4494 \nL 1172 3500 \nL 2356 3500 \nL 2356 3053 \nL 1172 3053 \nL 1172 1153 \nQ 1172 725 1289 603 \nQ 1406 481 1766 481 \nL 2356 481 \nL 2356 0 \nL 1766 0 \nQ 1100 0 847 248 \nQ 594 497 594 1153 \nL 594 3053 \nL 172 3053 \nL 172 3500 \nL 594 3500 \nL 594 4494 \nL 1172 4494 \nz\n\" transform=\"scale(0.015625)\"/>\n      </defs>\n      <use xlink:href=\"#DejaVuSans-63\"/>\n      <use xlink:href=\"#DejaVuSans-6f\" x=\"54.980469\"/>\n      <use xlink:href=\"#DejaVuSans-6e\" x=\"116.162109\"/>\n      <use xlink:href=\"#DejaVuSans-74\" x=\"179.541016\"/>\n      <use xlink:href=\"#DejaVuSans-65\" x=\"218.75\"/>\n      <use xlink:href=\"#DejaVuSans-6e\" x=\"280.273438\"/>\n      <use xlink:href=\"#DejaVuSans-74\" x=\"343.652344\"/>\n     </g>\n    </g>\n    <g id=\"line2d_25\">\n     <path d=\"M 142.862642 38.775781 \nL 152.862642 38.775781 \nL 162.862642 38.775781 \n\" style=\"fill: none; stroke-dasharray: 5.55,2.4; stroke-dashoffset: 0; stroke: #bf00bf; stroke-width: 1.5\"/>\n    </g>\n    <g id=\"text_14\">\n     <!-- style -->\n     <g transform=\"translate(170.862642 42.275781)scale(0.1 -0.1)\">\n      <defs>\n       <path id=\"DejaVuSans-79\" d=\"M 2059 -325 \nQ 1816 -950 1584 -1140 \nQ 1353 -1331 966 -1331 \nL 506 -1331 \nL 506 -850 \nL 844 -850 \nQ 1081 -850 1212 -737 \nQ 1344 -625 1503 -206 \nL 1606 56 \nL 191 3500 \nL 800 3500 \nL 1894 763 \nL 2988 3500 \nL 3597 3500 \nL 2059 -325 \nz\n\" transform=\"scale(0.015625)\"/>\n      </defs>\n      <use xlink:href=\"#DejaVuSans-73\"/>\n      <use xlink:href=\"#DejaVuSans-74\" x=\"52.099609\"/>\n      <use xlink:href=\"#DejaVuSans-79\" x=\"91.308594\"/>\n      <use xlink:href=\"#DejaVuSans-6c\" x=\"150.488281\"/>\n      <use xlink:href=\"#DejaVuSans-65\" x=\"178.271484\"/>\n     </g>\n    </g>\n    <g id=\"line2d_26\">\n     <path d=\"M 142.862642 53.453906 \nL 152.862642 53.453906 \nL 162.862642 53.453906 \n\" style=\"fill: none; stroke-dasharray: 9.6,2.4,1.5,2.4; stroke-dashoffset: 0; stroke: #008000; stroke-width: 1.5\"/>\n    </g>\n    <g id=\"text_15\">\n     <!-- TV -->\n     <g transform=\"translate(170.862642 56.953906)scale(0.1 -0.1)\">\n      <defs>\n       <path id=\"DejaVuSans-54\" d=\"M -19 4666 \nL 3928 4666 \nL 3928 4134 \nL 2272 4134 \nL 2272 0 \nL 1638 0 \nL 1638 4134 \nL -19 4134 \nL -19 4666 \nz\n\" transform=\"scale(0.015625)\"/>\n       <path id=\"DejaVuSans-56\" d=\"M 1831 0 \nL 50 4666 \nL 709 4666 \nL 2188 738 \nL 3669 4666 \nL 4325 4666 \nL 2547 0 \nL 1831 0 \nz\n\" transform=\"scale(0.015625)\"/>\n      </defs>\n      <use xlink:href=\"#DejaVuSans-54\"/>\n      <use xlink:href=\"#DejaVuSans-56\" x=\"61.083984\"/>\n     </g>\n    </g>\n   </g>\n  </g>\n  <g id=\"axes_2\">\n   <g id=\"patch_8\">\n    <path d=\"M 291.467898 146.899219 \nL 393.392898 146.899219 \nL 393.392898 10.999219 \nL 291.467898 10.999219 \nz\n\" style=\"fill: #ffffff\"/>\n   </g>\n   <g clip-path=\"url(#p5c59edda11)\">\n    <image xlink:href=\"data:image/png;base64,\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\" id=\"image79fb9921d8\" transform=\"scale(1 -1)translate(0 -136)\" x=\"291\" y=\"-10.455469\" width=\"102\" height=\"136\"/>\n   </g>\n   <g id=\"matplotlib.axis_3\">\n    <g id=\"xtick_6\">\n     <g id=\"line2d_27\">\n      <g>\n       <use xlink:href=\"#m72dfc93035\" x=\"291.694398\" y=\"146.899219\" style=\"stroke: #000000; stroke-width: 0.8\"/>\n      </g>\n     </g>\n     <g id=\"text_16\">\n      <!-- 0 -->\n      <g transform=\"translate(288.513148 161.497656)scale(0.1 -0.1)\">\n       <use xlink:href=\"#DejaVuSans-30\"/>\n      </g>\n     </g>\n    </g>\n    <g id=\"xtick_7\">\n     <g id=\"line2d_28\">\n      <g>\n       <use xlink:href=\"#m72dfc93035\" x=\"336.994398\" y=\"146.899219\" style=\"stroke: #000000; stroke-width: 0.8\"/>\n      </g>\n     </g>\n     <g id=\"text_17\">\n      <!-- 100 -->\n      <g transform=\"translate(327.450648 161.497656)scale(0.1 -0.1)\">\n       <use xlink:href=\"#DejaVuSans-31\"/>\n       <use xlink:href=\"#DejaVuSans-30\" x=\"63.623047\"/>\n       <use xlink:href=\"#DejaVuSans-30\" x=\"127.246094\"/>\n      </g>\n     </g>\n    </g>\n    <g id=\"xtick_8\">\n     <g id=\"line2d_29\">\n      <g>\n       <use xlink:href=\"#m72dfc93035\" x=\"382.294398\" y=\"146.899219\" style=\"stroke: #000000; stroke-width: 0.8\"/>\n      </g>\n     </g>\n     <g id=\"text_18\">\n      <!-- 200 -->\n      <g transform=\"translate(372.750648 161.497656)scale(0.1 -0.1)\">\n       <use xlink:href=\"#DejaVuSans-32\"/>\n       <use xlink:href=\"#DejaVuSans-30\" x=\"63.623047\"/>\n       <use xlink:href=\"#DejaVuSans-30\" x=\"127.246094\"/>\n      </g>\n     </g>\n    </g>\n   </g>\n   <g id=\"matplotlib.axis_4\">\n    <g id=\"ytick_6\">\n     <g id=\"line2d_30\">\n      <g>\n       <use xlink:href=\"#mfc6adf04c7\" x=\"291.467898\" y=\"11.225719\" style=\"stroke: #000000; stroke-width: 0.8\"/>\n      </g>\n     </g>\n     <g id=\"text_19\">\n      <!-- 0 -->\n      <g transform=\"translate(278.105398 15.024937)scale(0.1 -0.1)\">\n       <use xlink:href=\"#DejaVuSans-30\"/>\n      </g>\n     </g>\n    </g>\n    <g id=\"ytick_7\">\n     <g id=\"line2d_31\">\n      <g>\n       <use xlink:href=\"#mfc6adf04c7\" x=\"291.467898\" y=\"33.875719\" style=\"stroke: #000000; stroke-width: 0.8\"/>\n      </g>\n     </g>\n     <g id=\"text_20\">\n      <!-- 50 -->\n      <g transform=\"translate(271.742898 37.674937)scale(0.1 -0.1)\">\n       <use xlink:href=\"#DejaVuSans-35\"/>\n       <use xlink:href=\"#DejaVuSans-30\" x=\"63.623047\"/>\n      </g>\n     </g>\n    </g>\n    <g id=\"ytick_8\">\n     <g id=\"line2d_32\">\n      <g>\n       <use xlink:href=\"#mfc6adf04c7\" x=\"291.467898\" y=\"56.525719\" style=\"stroke: #000000; stroke-width: 0.8\"/>\n      </g>\n     </g>\n     <g id=\"text_21\">\n      <!-- 100 -->\n      <g transform=\"translate(265.380398 60.324937)scale(0.1 -0.1)\">\n       <use xlink:href=\"#DejaVuSans-31\"/>\n       <use xlink:href=\"#DejaVuSans-30\" x=\"63.623047\"/>\n       <use xlink:href=\"#DejaVuSans-30\" x=\"127.246094\"/>\n      </g>\n     </g>\n    </g>\n    <g id=\"ytick_9\">\n     <g id=\"line2d_33\">\n      <g>\n       <use xlink:href=\"#mfc6adf04c7\" x=\"291.467898\" y=\"79.175719\" style=\"stroke: #000000; stroke-width: 0.8\"/>\n      </g>\n     </g>\n     <g id=\"text_22\">\n      <!-- 150 -->\n      <g transform=\"translate(265.380398 82.974937)scale(0.1 -0.1)\">\n       <use xlink:href=\"#DejaVuSans-31\"/>\n       <use xlink:href=\"#DejaVuSans-35\" x=\"63.623047\"/>\n       <use xlink:href=\"#DejaVuSans-30\" x=\"127.246094\"/>\n      </g>\n     </g>\n    </g>\n    <g id=\"ytick_10\">\n     <g id=\"line2d_34\">\n      <g>\n       <use xlink:href=\"#mfc6adf04c7\" x=\"291.467898\" y=\"101.825719\" style=\"stroke: #000000; stroke-width: 0.8\"/>\n      </g>\n     </g>\n     <g id=\"text_23\">\n      <!-- 200 -->\n      <g transform=\"translate(265.380398 105.624937)scale(0.1 -0.1)\">\n       <use xlink:href=\"#DejaVuSans-32\"/>\n       <use xlink:href=\"#DejaVuSans-30\" x=\"63.623047\"/>\n       <use xlink:href=\"#DejaVuSans-30\" x=\"127.246094\"/>\n      </g>\n     </g>\n    </g>\n    <g id=\"ytick_11\">\n     <g id=\"line2d_35\">\n      <g>\n       <use xlink:href=\"#mfc6adf04c7\" x=\"291.467898\" y=\"124.475719\" style=\"stroke: #000000; stroke-width: 0.8\"/>\n      </g>\n     </g>\n     <g id=\"text_24\">\n      <!-- 250 -->\n      <g transform=\"translate(265.380398 128.274937)scale(0.1 -0.1)\">\n       <use xlink:href=\"#DejaVuSans-32\"/>\n       <use xlink:href=\"#DejaVuSans-35\" x=\"63.623047\"/>\n       <use xlink:href=\"#DejaVuSans-30\" x=\"127.246094\"/>\n      </g>\n     </g>\n    </g>\n   </g>\n   <g id=\"patch_9\">\n    <path d=\"M 291.467898 146.899219 \nL 291.467898 10.999219 \n\" style=\"fill: none; stroke: #000000; stroke-width: 0.8; stroke-linejoin: miter; stroke-linecap: square\"/>\n   </g>\n   <g id=\"patch_10\">\n    <path d=\"M 393.392898 146.899219 \nL 393.392898 10.999219 \n\" style=\"fill: none; stroke: #000000; stroke-width: 0.8; stroke-linejoin: miter; stroke-linecap: square\"/>\n   </g>\n   <g id=\"patch_11\">\n    <path d=\"M 291.467898 146.899219 \nL 393.392898 146.899219 \n\" style=\"fill: none; stroke: #000000; stroke-width: 0.8; stroke-linejoin: miter; stroke-linecap: square\"/>\n   </g>\n   <g id=\"patch_12\">\n    <path d=\"M 291.467898 10.999219 \nL 393.392898 10.999219 \n\" style=\"fill: none; stroke: #000000; stroke-width: 0.8; stroke-linejoin: miter; stroke-linecap: square\"/>\n   </g>\n  </g>\n </g>\n <defs>\n  <clipPath id=\"p8cadd18738\">\n   <rect x=\"40.603125\" y=\"10.999219\" width=\"177.545455\" height=\"135.9\"/>\n  </clipPath>\n  <clipPath id=\"p5c59edda11\">\n   <rect x=\"291.467898\" y=\"10.999219\" width=\"101.925\" height=\"135.9\"/>\n  </clipPath>\n </defs>\n</svg>\n"
          },
          "metadata": {
            "needs_background": "light"
          }
        }
      ]
    },
    {
      "cell_type": "code",
      "source": [
        "# d2l.plt.imshow(postprocess(output).asnumpy())\n",
        "# d2l.plt.imsave('out.jpg', postprocess(output).asnumpy())"
      ],
      "metadata": {
        "id": "XpYZ7HMRzVxr",
        "colab": {
          "base_uri": "https://localhost:8080/",
          "height": 186
        },
        "outputId": "b6de594e-70e7-432f-a588-19a3e5fd1b85"
      },
      "execution_count": 8,
      "outputs": [
        {
          "output_type": "error",
          "ename": "NameError",
          "evalue": "ignored",
          "traceback": [
            "\u001b[0;31m---------------------------------------------------------------------------\u001b[0m",
            "\u001b[0;31mNameError\u001b[0m                                 Traceback (most recent call last)",
            "\u001b[0;32m<ipython-input-8-29339186831c>\u001b[0m in \u001b[0;36m<module>\u001b[0;34m()\u001b[0m\n\u001b[0;32m----> 1\u001b[0;31m \u001b[0md2l\u001b[0m\u001b[0;34m.\u001b[0m\u001b[0mplt\u001b[0m\u001b[0;34m.\u001b[0m\u001b[0mimshow\u001b[0m\u001b[0;34m(\u001b[0m\u001b[0mpostprocess\u001b[0m\u001b[0;34m(\u001b[0m\u001b[0moutput\u001b[0m\u001b[0;34m)\u001b[0m\u001b[0;34m.\u001b[0m\u001b[0masnumpy\u001b[0m\u001b[0;34m(\u001b[0m\u001b[0;34m)\u001b[0m\u001b[0;34m)\u001b[0m\u001b[0;34m\u001b[0m\u001b[0;34m\u001b[0m\u001b[0m\n\u001b[0m\u001b[1;32m      2\u001b[0m \u001b[0md2l\u001b[0m\u001b[0;34m.\u001b[0m\u001b[0mplt\u001b[0m\u001b[0;34m.\u001b[0m\u001b[0mimsave\u001b[0m\u001b[0;34m(\u001b[0m\u001b[0;34m'out.jpg'\u001b[0m\u001b[0;34m,\u001b[0m \u001b[0mpostprocess\u001b[0m\u001b[0;34m(\u001b[0m\u001b[0moutput\u001b[0m\u001b[0;34m)\u001b[0m\u001b[0;34m.\u001b[0m\u001b[0masnumpy\u001b[0m\u001b[0;34m(\u001b[0m\u001b[0;34m)\u001b[0m\u001b[0;34m)\u001b[0m\u001b[0;34m\u001b[0m\u001b[0;34m\u001b[0m\u001b[0m\n",
            "\u001b[0;31mNameError\u001b[0m: name 'postprocess' is not defined"
          ]
        }
      ]
    },
    {
      "cell_type": "code",
      "source": [
        "# import matplotlib as plt\n",
        "# output = postprocess(output)\n",
        "# # 显示图像\n",
        "# plt.imshow(output)\n",
        "# plt.show()\n"
      ],
      "metadata": {
        "id": "sT0Wq91Uxs3l"
      },
      "execution_count": null,
      "outputs": []
    },
    {
      "cell_type": "code",
      "source": [
        "# # !pip install git+https://github.com/d2l-ai/d2l-zh@release  # installing d2l\n",
        "# # !pip install -U mxnet-cu101==1.7.0\n",
        "# # !pip install matplotlib == 3.1.1\n",
        "\n",
        "# #%matplotlib inline\n",
        "# from mxnet import autograd, gluon, image, init, np, npx\n",
        "# from mxnet.gluon import nn\n",
        "# from d2l import mxnet as d2l\n",
        "# import matplotlib.pyplot as plt\n",
        "\n",
        "# npx.set_np()\n",
        "\n",
        "# #导入内容图和风格图\n",
        "# content_img = image.imread('content.jpg')\n",
        "# style_img = image.imread('style.jpg')\n",
        "\n",
        "# rgb_mean_imgnet = np.array([0.485, 0.456, 0.406])\n",
        "# rgb_std_imgnet = np.array([0.229, 0.224, 0.225])\n",
        "\n",
        "# #预处理，将图片RGB通道做标准化\n",
        "# def preprocess(img, image_shape):\n",
        "#     img = image.imresize(img, *image_shape)\n",
        "#     img = (img.astype('float32') / 255 - rgb_mean_imgnet) / rgb_std_imgnet\n",
        "#     return np.expand_dims(img.transpose(2, 0, 1), axis=0)\n",
        "\n",
        "# #后处理，将输出还原为图片原始格式\n",
        "# def postprocess(img):\n",
        "#     img = img[0].as_in_ctx(rgb_std_imgnet.ctx)\n",
        "#     return (img.transpose(1, 2, 0) * rgb_std_imgnet + rgb_mean_imgnet).clip(0, 1)\n",
        "\n",
        "# #使用预训练的VGG-19网络进行特征提取\n",
        "# pretrained_net = gluon.model_zoo.vision.vgg19(pretrained=True)\n",
        "\n",
        "# #选取风格层和内容层\n",
        "# style_layers, content_layers = [0, 5, 10, 19, 28], [25]\n",
        "\n",
        "# net = nn.Sequential()\n",
        "# for i in range(max(content_layers + style_layers) + 1):\n",
        "#     net.add(pretrained_net.features[i])\n",
        "\n",
        "# #保留每一层的输出\n",
        "# def extract_features(X, content_layers, style_layers):\n",
        "#     contents = []\n",
        "#     styles = []\n",
        "#     for i in range(len(net)):\n",
        "#         X = net[i](X)\n",
        "#         if i in style_layers:\n",
        "#             styles.append(X)\n",
        "#         if i in content_layers:\n",
        "#             contents.append(X)\n",
        "#     return contents, styles\n",
        "\n",
        "# #进行内容特征提取\n",
        "# def extract_content(image_shape, device):\n",
        "#     content_X = preprocess(content_img, image_shape).copyto(device)\n",
        "#     contents_Y, _ = extract_features(content_X, content_layers, style_layers)\n",
        "#     return content_X, contents_Y\n",
        "\n",
        "# #进行风格特征提取\n",
        "# def extract_style(image_shape, device):\n",
        "#     style_X = preprocess(style_img, image_shape).copyto(device)\n",
        "#     _, styles_Y = extract_features(style_X, content_layers, style_layers)\n",
        "#     return style_X, styles_Y\n",
        "\n",
        "# #内容损失为合成图与内容图平方损失\n",
        "# def content_loss(Y_hat, Y):\n",
        "#     return np.square(Y_hat - Y).mean()\n",
        "\n",
        "# #计算格拉姆矩阵\n",
        "# def gram(X):\n",
        "#     num_channels, n = X.shape[1], d2l.size(X) // X.shape[1]\n",
        "#     X = X.reshape((num_channels, n))\n",
        "#     return np.dot(X, X.T) / (num_channels * n)\n",
        "\n",
        "# #计算风格损失\n",
        "# def style_loss(Y_hat, gram_Y):\n",
        "#     return np.square(gram(Y_hat) - gram_Y).mean()\n",
        "\n",
        "# #计算tv损失\n",
        "# def tv_loss(Y_hat):\n",
        "#     return 0.5 * (np.abs(Y_hat[:, :, 1:, :] - Y_hat[:, :, :-1, :]).mean() +\n",
        "#                   np.abs(Y_hat[:, :, :, 1:] - Y_hat[:, :, :, :-1]).mean())\n",
        "\n",
        "# #给定每种损失所占比重    \n",
        "# content_weight, style_weight, tv_weight = 1, 1e3, 10\n",
        "\n",
        "# #总损失函数\n",
        "# def compute_loss(X, contents_Y_hat, styles_Y_hat, contents_Y, styles_Y_gram):\n",
        "#     contents_l = [content_loss(Y_hat, Y) * content_weight for Y_hat, Y in zip(\n",
        "#         contents_Y_hat, contents_Y)]\n",
        "#     styles_l = [style_loss(Y_hat, Y) * style_weight for Y_hat, Y in zip(\n",
        "#         styles_Y_hat, styles_Y_gram)]\n",
        "#     tv_l = tv_loss(X) * tv_weight\n",
        "#     # 对所有损失求和\n",
        "#     l = sum(10 * styles_l + contents_l + [tv_l])\n",
        "#     return contents_l, styles_l, tv_l, l\n",
        "\n",
        "# #初始化合成图像\n",
        "# class SynthesizedImage(nn.Block):\n",
        "#     def __init__(self, img_shape, **kwargs):\n",
        "#         super(SynthesizedImage, self).__init__(**kwargs)\n",
        "#         self.weight = self.params.get('weight', shape=img_shape)\n",
        "\n",
        "#     def forward(self):\n",
        "#         return self.weight.data()\n",
        "\n",
        "# #进行初始化，计算每个风格层格拉姆矩阵\n",
        "# def get_inits(X, device, lr, styles_Y):\n",
        "#     gen_img = SynthesizedImage(X.shape)\n",
        "#     gen_img.initialize(init.Constant(X), ctx=device, force_reinit=True)\n",
        "#     trainer = gluon.Trainer(gen_img.collect_params(), 'adam',\n",
        "#                             {'learning_rate': lr})\n",
        "#     styles_Y_gram = [gram(Y) for Y in styles_Y]\n",
        "#     return gen_img(), styles_Y_gram, trainer\n",
        "\n",
        "# #模型训练\n",
        "# def train(X, contents_Y, styles_Y, device, lr, num_epochs, lr_decay_epoch):\n",
        "#     X, styles_Y_gram, trainer = get_inits(X, device, lr, styles_Y)\n",
        "#     animator = d2l.Animator(xlabel='epoch', ylabel='loss',\n",
        "#                             xlim=[10, num_epochs], ylim=[0, 20],\n",
        "#                             legend=['content', 'style', 'TV'],\n",
        "#                             ncols=2, figsize=(7, 2.5))\n",
        "#     for epoch in range(num_epochs):\n",
        "#         with autograd.record():\n",
        "#             contents_Y_hat, styles_Y_hat = extract_features(\n",
        "#                 X, content_layers, style_layers)\n",
        "#             contents_l, styles_l, tv_l, l = compute_loss(\n",
        "#                 X, contents_Y_hat, styles_Y_hat, contents_Y, styles_Y_gram)\n",
        "#         l.backward()\n",
        "#         trainer.step(1)\n",
        "#         if (epoch + 1) % lr_decay_epoch == 0:\n",
        "#             trainer.set_learning_rate(trainer.learning_rate * 0.8)\n",
        "#         if (epoch + 1) % 10 == 0:\n",
        "#             animator.axes[1].imshow(postprocess(X).asnumpy())\n",
        "#             animator.add(epoch + 1, [float(sum(contents_l)),\n",
        "#                                      float(sum(styles_l)), float(tv_l)])\n",
        "#     return X\n",
        "\n",
        "# #图片尺寸与内容图尺寸相同\n",
        "# device, image_shape = d2l.try_gpu(), (225, 300)\n",
        "# net.collect_params().reset_ctx(device)\n",
        "# content_X, contents_Y = extract_content(image_shape, device)\n",
        "# _, styles_Y = extract_style(image_shape, device)\n",
        "# output = train(content_X, contents_Y, styles_Y, device, 0.9, 500, 50)\n",
        "\n"
      ],
      "metadata": {
        "id": "eVnuBKVg3Teg"
      },
      "execution_count": null,
      "outputs": []
    }
  ]
}