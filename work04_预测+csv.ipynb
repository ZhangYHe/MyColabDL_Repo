{
  "nbformat": 4,
  "nbformat_minor": 0,
  "metadata": {
    "colab": {
      "name": "work04 预测+csv.ipynb",
      "provenance": [],
      "collapsed_sections": [],
      "authorship_tag": "ABX9TyOxQn5U56eLxwHFatBqIFZJ",
      "include_colab_link": true
    },
    "kernelspec": {
      "name": "python3",
      "display_name": "Python 3"
    },
    "language_info": {
      "name": "python"
    }
  },
  "cells": [
    {
      "cell_type": "markdown",
      "metadata": {
        "id": "view-in-github",
        "colab_type": "text"
      },
      "source": [
        "<a href=\"https://colab.research.google.com/github/ZhangYHe/MyColabDL_Repo/blob/main/work04_%E9%A2%84%E6%B5%8B%2Bcsv.ipynb\" target=\"_parent\"><img src=\"https://colab.research.google.com/assets/colab-badge.svg\" alt=\"Open In Colab\"/></a>"
      ]
    },
    {
      "cell_type": "code",
      "source": [
        "def iou(box1: torch.Tensor, box2:torch.Tensor, isleftT2rightD = True) -> torch.Tensor:\n",
        "    # box1 的shape为(1, 4), box2的shape为(None, 4)\n",
        "    # 防止输入错误\n",
        "    box1 = box1.view(-1,4)\n",
        "    box2 = box2.view(-1,4)\n",
        "    box1 = box1.repeat((box2.shape[0], 1))\n",
        "    if not isleftT2rightD:\n",
        "        box1 = torch.concat([box1[:,:2] - box1[:,2:4] / 2, box1[:,:2] + box1[:,2:4] / 2], 1).cuda()\n",
        "        box2 = torch.concat([box2[:,:2] - box2[:,2:4] / 2, box2[:,:2] + box2[:,2:4] / 2], 1).cuda()\n",
        "    # 交集左上角的点\n",
        "    lu = torch.max(box1[:, :2], box2[:, :2])\n",
        "    # 交集右下角的点\n",
        "    rd = torch.min(box1[:, 2:], box2[:, 2:])\n",
        "    rectsN = rd - lu\n",
        "    rectsN[rectsN < 0] = 0#没有重叠区域设置为0\n",
        "    rectsN = rectsN[:,0] * rectsN[:,1]\n",
        "    rectsU = (box1[:,2] - box1[:,0]) * (box1[:,3] - box1[:,1]) + (box2[:,2] - box2[:,0]) * (box2[:,3] - box2[:,1])\n",
        "    return rectsN / (rectsU - rectsN)"
      ],
      "metadata": {
        "id": "tuG2W_xnGOpQ"
      },
      "execution_count": null,
      "outputs": []
    },
    {
      "cell_type": "code",
      "source": [
        "def nms(box: torch.Tensor = None, score: torch.Tensor = None,threshold: float = 0.3) -> None:\n",
        "    _, sortIndex =  score.sort(0, descending = True)\n",
        "    res = []\n",
        "    while sortIndex.size(0):\n",
        "        if sortIndex.size(0) == 1:\n",
        "            res.append(sortIndex[0].item())\n",
        "            break\n",
        "        res.append(sortIndex[0].item())\n",
        "        ious = iou(box[sortIndex[0]], box[sortIndex[1:]])\n",
        "        sortIndex = sortIndex[1:][ious < threshold]\n",
        "    return  res"
      ],
      "metadata": {
        "id": "SBVT_FVIGRI3"
      },
      "execution_count": null,
      "outputs": []
    },
    {
      "cell_type": "code",
      "source": [
        "def notMaxSuppression(inputVal, confThres = 0.5):\n",
        "    # 化为左上角+右下角坐标\n",
        "    box_corner = inputVal.new(inputVal.shape)\n",
        "    box_corner[:, :, 0] = inputVal[:, :, 0] - inputVal[:, :, 2] / 2\n",
        "    box_corner[:, :, 1] = inputVal[:, :, 1] - inputVal[:, :, 3] / 2\n",
        "    box_corner[:, :, 2] = inputVal[:, :, 0] + inputVal[:, :, 2] / 2\n",
        "    box_corner[:, :, 3] = inputVal[:, :, 1] + inputVal[:, :, 3] / 2\n",
        "    inputVal[:, :, :4] = box_corner[:, :, :4]\n",
        "    output = [None for _ in inputVal]\n",
        "    for i, prediction in enumerate(inputVal):\n",
        "        # 置信度与对应的类型\n",
        "        classP, classType = torch.max(prediction[:, 5:], 1, keepdim=True)\n",
        "        # 利用置信度进行第一轮筛选\n",
        "        confMask = (prediction[...,4] * classP[...,0] >= confThres)\n",
        "        \n",
        "        prediction = prediction[confMask]\n",
        "        classP = classP[confMask]\n",
        "        classType = classType[confMask]\n",
        " \n",
        "        if not prediction.shape[0]:\n",
        "            continue\n",
        "        # 整合数据\n",
        "        prediction = torch.cat([prediction[:,:5], classP, classType], 1)\n",
        "        uniqueClass = prediction[:, -1].unique()\n",
        "        # 对每一类分别进行非极大值抑制\n",
        "        for uClassType in uniqueClass:\n",
        "            tPrediction = prediction[prediction[:, -1] == uClassType]\n",
        "            # if tPrediction.size(0) == 1:\n",
        "            #     continue\n",
        "            res = nms(tPrediction[:,:4], tPrediction[:,4] * tPrediction[:,5], threshold=0.3)\n",
        "            # res = torchvision.ops.nms(tPrediction[:,:4], tPrediction[:,4] * tPrediction[:,5], 0.3) 这是torch自带的的nms\n",
        "            tPrediction = tPrediction[res]\n",
        "            output[i] = tPrediction if output[i] is None else torch.cat([output[i], tPrediction])\n",
        "    return output\n"
      ],
      "metadata": {
        "id": "Xr3FH9YWOnYE"
      },
      "execution_count": null,
      "outputs": []
    },
    {
      "cell_type": "code",
      "source": [
        "def getTrueBox(outputs, bboxes):\n",
        "    res = []\n",
        "    for i,output in enumerate(outputs):\n",
        "        # 对于一张图\n",
        "        if output is None: # 没有预测框就跳过\n",
        "            continue\n",
        "        preBoxes = output[:,:4]\n",
        "        preLabels = output[:,6]\n",
        "        preConf = output[:,4] * output[:,5]\n",
        "        targetBboxes = bboxes[bboxes[:,0] == i]\n",
        "        targetBoxes = targetBboxes[:,2:]\n",
        "        targetLabels = targetBboxes[:,1]\n",
        "        detectedBox = []\n",
        "        isCor = torch.zeros_like(preLabels)\n",
        "        for j, preBox in enumerate(preBoxes):\n",
        "            # 对于一个框\n",
        "            if (len(detectedBox) == len(targetLabels)):\n",
        "                break\n",
        "            # print(iou(preBox, targetBoxes, isleftT2rightD=True))\n",
        "            iout, maxI = torch.max(iou(preBox, targetBoxes, isleftT2rightD=True), 0)\n",
        "            if iout > CONST.valIOUTher and maxI not in detectedBox and preLabels[j] == targetLabels[maxI]:\n",
        "                isCor[j] = 1\n",
        "                detectedBox.append(maxI)\n",
        "        res.append([isCor, preConf, preLabels])\n",
        "    return "
      ],
      "metadata": {
        "id": "QT1ZKil4ILDm"
      },
      "execution_count": null,
      "outputs": []
    },
    {
      "cell_type": "code",
      "source": [
        "def handleBox(input, yolo):\n",
        "    outputs = []\n",
        "    lastLayers = yolo.lastLayers\n",
        "    for i, lasterLayer in enumerate(lastLayers):\n",
        "        b, c, h, w = input[i].shape\n",
        "        res = input[i].view(b, len(lasterLayer.anchor), -1, h, w).permute(0, 1, 3, 4, 2).contiguous()\n",
        "        res[...,[0,1,4]] = res[...,[0,1,4]].sigmoid()\n",
        "        res[...,5:] = res[...,5:].sigmoid()\n",
        "        res[...,:2] = res[...,:2] + lasterLayer.grid[..., :2]\n",
        "        res[...,2:4] = torch.exp(res[...,2:4]) * lasterLayer.grid[..., 2:4]\n",
        "        res[...,:4] = res[...,:4] / torch.Tensor([w,h,w,h]).to(CONST.device)\n",
        "        res = res.view(b,-1,5+CONST.classNumber)    #classNumber需要改为21？\n",
        "        outputs.append(res)\n",
        "    return torch.cat(outputs,1)"
      ],
      "metadata": {
        "id": "-uJQY--CUA1j"
      },
      "execution_count": null,
      "outputs": []
    },
    {
      "cell_type": "code",
      "source": [
        "def refer(input, imageSize, netInputSize = (416,416), isHold = False):\n",
        "    if not isHold:\n",
        "        for batchNum, val in  enumerate(input):\n",
        "            val[...,:4] = val[...,:4] * torch.Tensor(imageSize).repeat((1,2)).to(CONST.device)\n",
        "            input[batchNum] = val\n",
        "    return input"
      ],
      "metadata": {
        "id": "uK5qTC7BXcnK"
      },
      "execution_count": null,
      "outputs": []
    },
    {
      "cell_type": "code",
      "source": [
        "def valid():\n",
        "    yolo = MyYOLO() # type: nn.Module\n",
        "    getWeight(yolo)\n",
        "    yolo.eval()\n",
        "    yolo.to(CONST.device)\n",
        " \n",
        "    flag=0\n",
        "    with torch.no_grad():\n",
        "        for imgs, imgsid in tqdm(testDataLoader, desc=\"Validating\"):\n",
        "            imgs = imgs.to(CONST.device)\n",
        "            output = yolo(imgs)\n",
        "            output = handleBox(output, yolo) # 处理先验框 返回的数据大小为(batchSize, 10647， 85)\n",
        "            output = notMaxSuppression(output) # 非极大值抑制, 返回的数据为batchSize[x,y,x,y,conf,cls]    #形状有点问题\n",
        "            # output = refer(output, Image.open(imgs).convert(\"RGB\").size) # 将图片映射到原图坐标\n",
        "\n",
        "            #将图片序号与output连接\n",
        "            temp=torch.cat((imgsid,output),1)\n",
        "            if flag==0:\n",
        "                flag=1\n",
        "                pred=temp\n",
        "            else:\n",
        "                pred=torch.cat((pred,temp),0)\n",
        "    \n",
        "    pred_list=pred.tolist()\n",
        "    dim0, dim1 = pred.shape\n",
        "    #将结果pred写回csv\n",
        "    with open('test.csv', 'w', encoding='UTF8', newline='') as f:\n",
        "        writer = csv.writer(f)\n",
        "        for i in range(dim0):\n",
        "            temp_list=[]\n",
        "            for j in range(1,dim1):\n",
        "                temp_list.append('{')\n",
        "                a=\",\".join(pred_list[i][j])\n",
        "                temp_list.append(a)\n",
        "                temp_list.append('}')\n",
        "            row_list=[pred[i][0]]           #picnum\n",
        "            row_list.append(\"\".join(temp_list))    #[picnum,{...}{...}]\n",
        "            writer.writerow(row_list) \n",
        "    "
      ],
      "metadata": {
        "id": "Np9TqLM9GTkf"
      },
      "execution_count": null,
      "outputs": []
    },
    {
      "cell_type": "code",
      "source": [
        "# def predict(img, isShow=True):\n",
        "#     rawImg = Image.open(img).convert(\"RGB\")\n",
        "#     img = np.array(rawImg)\n",
        "#     img = iaa.Sequential([\n",
        "#         iaa.Resize((416,416))\n",
        "#     ])(image=img)\n",
        "#     img = np.transpose(img / 255, (2, 0, 1))\n",
        "#     with torch.no_grad():\n",
        "#         img = torch.from_numpy(img).unsqueeze(0).type(torch.float).to(CONST.device)\n",
        "#         yolo = MyYOLO().to(CONST.device) # type: torch.nn.Module\n",
        "#         # 迁移学习\n",
        "#         getWeight(yolo)\n",
        "#         # 预测图片\n",
        "#         output = yolo(img) # 返回的数据大小为[(batchSize, 255,13,13), (batchSize, 255,13,13)]\n",
        "#         output = handleBox(output, yolo) # 处理先验框 返回的数据大小为(batchSize, 10647， 85)\n",
        "#         output = notMaxSuppression(output) # 非极大值抑制\n",
        "\n",
        "#         print(f\"抑制后的结果:{output[0].shape}\")\n",
        "#         output = refer(output, rawImg.size) # 将图片映射到原图坐标\n",
        "#         output = output[0].to(\"cpu\")\n",
        "#         if len(output) == 0:\n",
        "#             print(\"没有找到特征\")\n",
        "#             exit()\n",
        "#         if isShow:\n",
        "#             showPic(output, rawImg)\n",
        "#         return output"
      ],
      "metadata": {
        "id": "0VoiOY8gThCR"
      },
      "execution_count": null,
      "outputs": []
    }
  ]
}