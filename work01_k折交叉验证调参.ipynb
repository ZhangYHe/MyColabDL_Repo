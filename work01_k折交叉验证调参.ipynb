{
  "nbformat": 4,
  "nbformat_minor": 0,
  "metadata": {
    "colab": {
      "name": "work01_k折交叉验证调参.ipynb",
      "provenance": [],
      "collapsed_sections": [],
      "mount_file_id": "11jrlQy48jomyrGO3UntbC17pvZxpggCG",
      "authorship_tag": "ABX9TyOKwOrIuSKLWBvMW0e5bor7",
      "include_colab_link": true
    },
    "kernelspec": {
      "name": "python3",
      "display_name": "Python 3"
    },
    "language_info": {
      "name": "python"
    }
  },
  "cells": [
    {
      "cell_type": "markdown",
      "metadata": {
        "id": "view-in-github",
        "colab_type": "text"
      },
      "source": [
        "<a href=\"https://colab.research.google.com/github/ZhangYHe/MyColabDL_Repo/blob/main/work01_k%E6%8A%98%E4%BA%A4%E5%8F%89%E9%AA%8C%E8%AF%81%E8%B0%83%E5%8F%82.ipynb\" target=\"_parent\"><img src=\"https://colab.research.google.com/assets/colab-badge.svg\" alt=\"Open In Colab\"/></a>"
      ]
    },
    {
      "cell_type": "markdown",
      "source": [
        "##k折交叉验证调参\n",
        "将全部样本划分为k个大小相同的切片，依次将这k个切片分别作为验证集，其余样本作为训练集，反复训练k次，计算训练误差和验证误差的平均值。   \n",
        "\n",
        "操作流程如下：   \n",
        "1.划分样本   \n",
        "2.遍历k个切片，依次作为验证集，其余数据作为测试集，反复训练k次    \n",
        "3.计算训练误差、验证误差平均值"
      ],
      "metadata": {
        "id": "5LAELk8LbAWa"
      }
    },
    {
      "cell_type": "code",
      "source": [
        "def K_fold_CrossValidation(k_num):\n",
        "  sum_train_loss=0\n",
        "  sum_verify_loss=0\n",
        "  Total_num=len(features)\n",
        "\n",
        "  for i in range(k_num):\n",
        "    for verify_X, verify_y in data_iter(Total_num/k_num, features, labels):\n",
        "      temp_feature=feature\n",
        "      temp_labels=labels\n",
        "      train_feature=temp_feature[~np.isin(temp_feature,verify_X)]\n",
        "      train_labels=temp_labels[~np.isin(temp_labels,verify_y)]\n",
        "      #此处进行训练\n",
        "      train_l=loss(net(train_feature,w,b),train_labels)\n",
        "      verify_l=loss(net(verify_X,w,b),verify_y)\n",
        "      sum_train_loss+=train_l\n",
        "      sum_verify_loss+=verify_l\n",
        "  \n",
        "  average_train_loss=sum_train_loss/k_num\n",
        "  average_verify_loss=sum_verify_loss/k_num\n",
        "  return (average_train_loss,average_verify_loss)"
      ],
      "metadata": {
        "id": "CaoeoH13bBZQ"
      },
      "execution_count": null,
      "outputs": []
    }
  ]
}