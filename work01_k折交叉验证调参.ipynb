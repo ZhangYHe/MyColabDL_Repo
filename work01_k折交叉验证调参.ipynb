{
  "nbformat": 4,
  "nbformat_minor": 0,
  "metadata": {
    "colab": {
      "name": "work01_k折交叉验证调参.ipynb",
      "provenance": [],
      "collapsed_sections": [],
      "mount_file_id": "11jrlQy48jomyrGO3UntbC17pvZxpggCG",
      "authorship_tag": "ABX9TyO65QGp7sXECbj6L5ODcCmc",
      "include_colab_link": true
    },
    "kernelspec": {
      "name": "python3",
      "display_name": "Python 3"
    },
    "language_info": {
      "name": "python"
    }
  },
  "cells": [
    {
      "cell_type": "markdown",
      "metadata": {
        "id": "view-in-github",
        "colab_type": "text"
      },
      "source": [
        "<a href=\"https://colab.research.google.com/github/ZhangYHe/MyColabDL_Repo/blob/main/work01_k%E6%8A%98%E4%BA%A4%E5%8F%89%E9%AA%8C%E8%AF%81%E8%B0%83%E5%8F%82.ipynb\" target=\"_parent\"><img src=\"https://colab.research.google.com/assets/colab-badge.svg\" alt=\"Open In Colab\"/></a>"
      ]
    },
    {
      "cell_type": "markdown",
      "source": [
        ""
      ],
      "metadata": {
        "id": "5LAELk8LbAWa"
      }
    },
    {
      "cell_type": "code",
      "source": [
        "def K_fold_CrossValidation(k_num):\n",
        "  #train\n",
        "  #test\n",
        "  sum_loss=0\n",
        "  for i in range(k_num):\n",
        "    #初始化模型参数\n",
        "    for test_X, test_y in data_iter(Total_num/k_num, features, labels):\n",
        "      temp_feature=feature\n",
        "      temp_labels=labels\n",
        "      train_feature=temp_feature[~np.isin(temp_feature,test_X)]\n",
        "      train_labels=temp_labels[~np.isin(temp_labels,test_y)]\n",
        "      #train\n",
        "      test_l=loss(net(test_X,w,b),test_y)\n",
        "      sum_loss+=test_l\n",
        "  average_loss=sum_loss/k_num\n",
        "  return average_loss"
      ],
      "metadata": {
        "id": "CaoeoH13bBZQ"
      },
      "execution_count": null,
      "outputs": []
    }
  ]
}