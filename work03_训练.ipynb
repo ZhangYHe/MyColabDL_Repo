{
  "nbformat": 4,
  "nbformat_minor": 0,
  "metadata": {
    "colab": {
      "name": "work03 训练.ipynb",
      "provenance": [],
      "collapsed_sections": [],
      "toc_visible": true,
      "authorship_tag": "ABX9TyO0SK54pqyHMG0GwNyAeWG/",
      "include_colab_link": true
    },
    "kernelspec": {
      "name": "python3",
      "display_name": "Python 3"
    },
    "language_info": {
      "name": "python"
    }
  },
  "cells": [
    {
      "cell_type": "markdown",
      "metadata": {
        "id": "view-in-github",
        "colab_type": "text"
      },
      "source": [
        "<a href=\"https://colab.research.google.com/github/ZhangYHe/MyColabDL_Repo/blob/main/work03_%E8%AE%AD%E7%BB%83.ipynb\" target=\"_parent\"><img src=\"https://colab.research.google.com/assets/colab-badge.svg\" alt=\"Open In Colab\"/></a>"
      ]
    },
    {
      "cell_type": "markdown",
      "source": [
        "##训练模型\n",
        "\n",
        "在训练函数中首先初始化合成图像，计算原始风格图像的格拉姆矩阵列表，定义学习率下降调节器。在每一个epoch中计算合成图像的内容层和风格层的输出，再计算总损失值，反向传播，更新参数。训练结束后返回合成图像。\n"
      ],
      "metadata": {
        "id": "IWj591OMuVM_"
      }
    },
    {
      "cell_type": "code",
      "source": [
        "def train(X, content_Y, style_Y, lr, num_epochs, lr_decay_epoch):\n",
        "    # X是初始化的合成图像，style_Y_gram是原始风格图像的格拉姆矩阵列表\n",
        "    X, style_Y_gram, trainer = get_inits(X, lr, style_Y)\n",
        "    # 定义学习率下降调节器\n",
        "    scheduler = torch.optim.lr_scheduler.StepLR(trainer, lr_decay_epoch, 0.8)\n",
        "    for epoch in range(num_epochs):\n",
        "        trainer.zero_grad()\n",
        "        # Y_hat是用合成图像计算出的特征图\n",
        "        content_Y_hat, style_Y_hat = extract_features(X, content_idx, style_idx)\n",
        "        content_l, style_l, tv_l, l = compute_loss(X, content_Y, content_Y_hat, style_Y_gram, style_Y_hat)\n",
        "        # 反向传播误差\n",
        "        l.backward()\n",
        "        # 更新一次合成图像的像素参数\n",
        "        trainer.step()\n",
        "        # 更新学习率超参数\n",
        "        scheduler.step()\n",
        "        # 每5个epoch记录一次loss信息\n",
        "        if (epoch + 1) % 5 == 0:\n",
        "            # 由于风格损失列表有5项，因此算个总损失输出\n",
        "            print('迭代次数：{}    内容损失：{:.9f}    风格损失：{:.9f}    总变差损失：{:.9f}' .format(epoch+1, sum(content_l).item(), sum(style_l).item(), tv_l.item()))\n",
        "    # 训练结束后返回合成图像\n",
        "    return X\n"
      ],
      "metadata": {
        "id": "XtpLq0eju8LQ"
      },
      "execution_count": null,
      "outputs": []
    },
    {
      "cell_type": "code",
      "source": [
        "output = train(X, content_features_Y, style_features_Y, lr = 0.3, num_epochs = 500, lr_decay_epoch = 50)\n",
        "# 调用后处理函数处理最终的合成图像，将其转换为正常格式的可视化图像\n",
        "output = postprocess(output)\n",
        "# 显示图像\n",
        "plt.imshow(output)\n",
        "plt.show()\n"
      ],
      "metadata": {
        "id": "DolyxD09vLZv"
      },
      "execution_count": null,
      "outputs": []
    },
    {
      "cell_type": "code",
      "source": [
        "# def train(X, contents_Y, styles_Y, device, lr, num_epochs, lr_decay_epoch):\n",
        "#     X, styles_Y_gram, trainer = get_inits(X, device, lr, styles_Y)\n",
        "#     scheduler = torch.optim.lr_scheduler.StepLR(trainer, lr_decay_epoch, 0.8)\n",
        "#     animator = d2l.Animator(xlabel='epoch', ylabel='loss',\n",
        "#                             xlim=[10, num_epochs],\n",
        "#                             legend=['content', 'style', 'TV'],\n",
        "#                             ncols=2, figsize=(7, 2.5))\n",
        "#     for epoch in range(num_epochs):\n",
        "#         trainer.zero_grad()\n",
        "#         contents_Y_hat, styles_Y_hat = extract_features(\n",
        "#             X, content_layers, style_layers)\n",
        "#         contents_l, styles_l, tv_l, l = compute_loss(\n",
        "#             X, contents_Y_hat, styles_Y_hat, contents_Y, styles_Y_gram)\n",
        "#         l.backward()\n",
        "#         trainer.step()\n",
        "#         scheduler.step()\n",
        "#         if (epoch + 1) % 10 == 0:\n",
        "#             animator.axes[1].imshow(postprocess(X))\n",
        "#             animator.add(epoch + 1, [float(sum(contents_l)),\n",
        "#                                      float(sum(styles_l)), float(tv_l)])\n",
        "#     return X"
      ],
      "metadata": {
        "id": "t7bBUeKAuWJn"
      },
      "execution_count": null,
      "outputs": []
    },
    {
      "cell_type": "code",
      "source": [
        "# device, image_shape = d2l.try_gpu(), (300, 450)\n",
        "# net = net.to(device)\n",
        "# content_X, contents_Y = get_contents(image_shape, device)\n",
        "# _, styles_Y = get_styles(image_shape, device)\n",
        "# output = train(content_X, contents_Y, styles_Y, device, 0.3, 500, 50)"
      ],
      "metadata": {
        "id": "Ss9Bm_1ZucVN"
      },
      "execution_count": null,
      "outputs": []
    }
  ]
}